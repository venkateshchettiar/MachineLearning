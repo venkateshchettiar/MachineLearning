{
  "nbformat": 4,
  "nbformat_minor": 0,
  "metadata": {
    "colab": {
      "name": "Property_Price _prediction.ipynb",
      "provenance": [],
      "collapsed_sections": [],
      "mount_file_id": "1xC-xS5QyMbP1icesFLVphx5S2QZqvGVJ",
      "authorship_tag": "ABX9TyObE06LiMDf8xuWOPK6H1/f",
      "include_colab_link": true
    },
    "kernelspec": {
      "name": "python3",
      "display_name": "Python 3"
    },
    "accelerator": "GPU"
  },
  "cells": [
    {
      "cell_type": "markdown",
      "metadata": {
        "id": "view-in-github",
        "colab_type": "text"
      },
      "source": [
        "<a href=\"https://colab.research.google.com/github/venkateshchettiar/MyProject1/blob/master/Property_Is_Junk_Or_Not.ipynb\" target=\"_parent\"><img src=\"https://colab.research.google.com/assets/colab-badge.svg\" alt=\"Open In Colab\"/></a>"
      ]
    },
    {
      "cell_type": "code",
      "metadata": {
        "id": "CxCDKahaRqxA",
        "colab_type": "code",
        "colab": {}
      },
      "source": [
        "import numpy as np\n",
        "import pandas as pd\n",
        "from sklearn.model_selection import train_test_split\n",
        "from sklearn.linear_model import LogisticRegression \n",
        "from sklearn.metrics import roc_auc_score\n",
        "from sklearn.model_selection import GridSearchCV\n",
        "from sklearn.ensemble import RandomForestClassifier\n",
        "from time import time\n",
        "from operator import itemgetter\n",
        "from scipy.stats import randint as sp_randint\n",
        "from sklearn.model_selection import RandomizedSearchCV"
      ],
      "execution_count": 1,
      "outputs": []
    },
    {
      "cell_type": "markdown",
      "metadata": {
        "id": "GVl1yVtf1P30",
        "colab_type": "text"
      },
      "source": [
        "###**Data Wrangling**"
      ]
    },
    {
      "cell_type": "code",
      "metadata": {
        "id": "fGqguuM6R-om",
        "colab_type": "code",
        "colab": {}
      },
      "source": [
        "train = pd.read_csv(\"/content/drive/My Drive/ML/Property_train.csv\")\n",
        "test = pd.read_csv(\"/content/drive/My Drive/ML/Property_test_share.csv\")"
      ],
      "execution_count": 2,
      "outputs": []
    },
    {
      "cell_type": "code",
      "metadata": {
        "id": "FvzdIT2HX1CO",
        "colab_type": "code",
        "colab": {
          "base_uri": "https://localhost:8080/",
          "height": 217
        },
        "outputId": "912990a7-a3ec-4917-c9f6-a6bad70aa6b2"
      },
      "source": [
        "train.head()"
      ],
      "execution_count": 3,
      "outputs": [
        {
          "output_type": "execute_result",
          "data": {
            "text/html": [
              "<div>\n",
              "<style scoped>\n",
              "    .dataframe tbody tr th:only-of-type {\n",
              "        vertical-align: middle;\n",
              "    }\n",
              "\n",
              "    .dataframe tbody tr th {\n",
              "        vertical-align: top;\n",
              "    }\n",
              "\n",
              "    .dataframe thead th {\n",
              "        text-align: right;\n",
              "    }\n",
              "</style>\n",
              "<table border=\"1\" class=\"dataframe\">\n",
              "  <thead>\n",
              "    <tr style=\"text-align: right;\">\n",
              "      <th></th>\n",
              "      <th>Junk</th>\n",
              "      <th>InteriorsStyle</th>\n",
              "      <th>PriceIndex8</th>\n",
              "      <th>ListDate</th>\n",
              "      <th>Material</th>\n",
              "      <th>PriceIndex9</th>\n",
              "      <th>Agency</th>\n",
              "      <th>AreaIncomeType</th>\n",
              "      <th>EnvRating</th>\n",
              "      <th>PriceIndex7</th>\n",
              "      <th>ExpeditedListing</th>\n",
              "      <th>PriceIndex4</th>\n",
              "      <th>PriceIndex1</th>\n",
              "      <th>PriceIndex6</th>\n",
              "      <th>PRIMEUNIT</th>\n",
              "      <th>Channel</th>\n",
              "      <th>Zip</th>\n",
              "      <th>InsurancePremiumIndex</th>\n",
              "      <th>PlotType</th>\n",
              "      <th>Architecture</th>\n",
              "      <th>PriceIndex3</th>\n",
              "      <th>Region</th>\n",
              "      <th>PriceIndex5</th>\n",
              "      <th>SubModel</th>\n",
              "      <th>Facade</th>\n",
              "      <th>State</th>\n",
              "      <th>NormalisedPopulation</th>\n",
              "      <th>BuildYear</th>\n",
              "      <th>RegionType</th>\n",
              "      <th>PropertyAge</th>\n",
              "      <th>PriceIndex2</th>\n",
              "    </tr>\n",
              "  </thead>\n",
              "  <tbody>\n",
              "    <tr>\n",
              "      <th>0</th>\n",
              "      <td>0</td>\n",
              "      <td>6LLJ</td>\n",
              "      <td>14674.0</td>\n",
              "      <td>9/7/2010</td>\n",
              "      <td>UT7W</td>\n",
              "      <td>8270</td>\n",
              "      <td>CAT3</td>\n",
              "      <td>B</td>\n",
              "      <td>missing</td>\n",
              "      <td>13143.0</td>\n",
              "      <td>0</td>\n",
              "      <td>14224.0</td>\n",
              "      <td>9217.0</td>\n",
              "      <td>10387.0</td>\n",
              "      <td>missing</td>\n",
              "      <td>Direct</td>\n",
              "      <td>21075</td>\n",
              "      <td>623</td>\n",
              "      <td>WHBI</td>\n",
              "      <td>I3Z9</td>\n",
              "      <td>13108.0</td>\n",
              "      <td>A</td>\n",
              "      <td>9022.0</td>\n",
              "      <td>6E9G</td>\n",
              "      <td>GREEN</td>\n",
              "      <td>MD</td>\n",
              "      <td>42077</td>\n",
              "      <td>2008</td>\n",
              "      <td>A</td>\n",
              "      <td>2</td>\n",
              "      <td>10692.0</td>\n",
              "    </tr>\n",
              "    <tr>\n",
              "      <th>1</th>\n",
              "      <td>1</td>\n",
              "      <td>XZ9F</td>\n",
              "      <td>4172.0</td>\n",
              "      <td>1/7/2009</td>\n",
              "      <td>PRN0</td>\n",
              "      <td>3890</td>\n",
              "      <td>CAT2</td>\n",
              "      <td>B</td>\n",
              "      <td>missing</td>\n",
              "      <td>3461.0</td>\n",
              "      <td>0</td>\n",
              "      <td>4404.0</td>\n",
              "      <td>2958.0</td>\n",
              "      <td>3400.0</td>\n",
              "      <td>missing</td>\n",
              "      <td>Direct</td>\n",
              "      <td>73129</td>\n",
              "      <td>1689</td>\n",
              "      <td>WHBI</td>\n",
              "      <td>AVYP</td>\n",
              "      <td>3695.0</td>\n",
              "      <td>A</td>\n",
              "      <td>2742.0</td>\n",
              "      <td>FIVQ</td>\n",
              "      <td>SILVER</td>\n",
              "      <td>OK</td>\n",
              "      <td>77258</td>\n",
              "      <td>2002</td>\n",
              "      <td>A</td>\n",
              "      <td>7</td>\n",
              "      <td>3615.0</td>\n",
              "    </tr>\n",
              "    <tr>\n",
              "      <th>2</th>\n",
              "      <td>0</td>\n",
              "      <td>QWEV</td>\n",
              "      <td>8210.0</td>\n",
              "      <td>6/23/2010</td>\n",
              "      <td>A9RA</td>\n",
              "      <td>5900</td>\n",
              "      <td>CAT1</td>\n",
              "      <td>B</td>\n",
              "      <td>missing</td>\n",
              "      <td>6922.0</td>\n",
              "      <td>0</td>\n",
              "      <td>8952.0</td>\n",
              "      <td>4568.0</td>\n",
              "      <td>4862.0</td>\n",
              "      <td>missing</td>\n",
              "      <td>Other</td>\n",
              "      <td>29697</td>\n",
              "      <td>2351</td>\n",
              "      <td>W62B</td>\n",
              "      <td>1M5X</td>\n",
              "      <td>7730.0</td>\n",
              "      <td>A</td>\n",
              "      <td>3768.0</td>\n",
              "      <td>4K0H</td>\n",
              "      <td>SILVER</td>\n",
              "      <td>SC</td>\n",
              "      <td>94514</td>\n",
              "      <td>2004</td>\n",
              "      <td>A</td>\n",
              "      <td>6</td>\n",
              "      <td>5805.0</td>\n",
              "    </tr>\n",
              "    <tr>\n",
              "      <th>3</th>\n",
              "      <td>0</td>\n",
              "      <td>MK2K</td>\n",
              "      <td>7309.0</td>\n",
              "      <td>3/19/2009</td>\n",
              "      <td>RRJQ</td>\n",
              "      <td>7460</td>\n",
              "      <td>OTHER</td>\n",
              "      <td>A</td>\n",
              "      <td>missing</td>\n",
              "      <td>6300.0</td>\n",
              "      <td>0</td>\n",
              "      <td>7460.0</td>\n",
              "      <td>5361.0</td>\n",
              "      <td>6305.0</td>\n",
              "      <td>missing</td>\n",
              "      <td>Agent</td>\n",
              "      <td>28273</td>\n",
              "      <td>1933</td>\n",
              "      <td>WLQ6</td>\n",
              "      <td>DKOO</td>\n",
              "      <td>6290.0</td>\n",
              "      <td>A</td>\n",
              "      <td>5370.0</td>\n",
              "      <td>ZLXY</td>\n",
              "      <td>WHITE</td>\n",
              "      <td>NC</td>\n",
              "      <td>82302</td>\n",
              "      <td>2002</td>\n",
              "      <td>C</td>\n",
              "      <td>7</td>\n",
              "      <td>6444.0</td>\n",
              "    </tr>\n",
              "    <tr>\n",
              "      <th>4</th>\n",
              "      <td>0</td>\n",
              "      <td>GK4G</td>\n",
              "      <td>9182.0</td>\n",
              "      <td>3/3/2010</td>\n",
              "      <td>HE5A</td>\n",
              "      <td>6400</td>\n",
              "      <td>OTHER</td>\n",
              "      <td>B</td>\n",
              "      <td>missing</td>\n",
              "      <td>8330.0</td>\n",
              "      <td>0</td>\n",
              "      <td>9846.0</td>\n",
              "      <td>5428.0</td>\n",
              "      <td>5718.0</td>\n",
              "      <td>missing</td>\n",
              "      <td>Other</td>\n",
              "      <td>29697</td>\n",
              "      <td>482</td>\n",
              "      <td>WHBI</td>\n",
              "      <td>KML6</td>\n",
              "      <td>8583.0</td>\n",
              "      <td>A</td>\n",
              "      <td>4803.0</td>\n",
              "      <td>FIVQ</td>\n",
              "      <td>SILVER</td>\n",
              "      <td>SC</td>\n",
              "      <td>49176</td>\n",
              "      <td>2007</td>\n",
              "      <td>B</td>\n",
              "      <td>3</td>\n",
              "      <td>6286.0</td>\n",
              "    </tr>\n",
              "  </tbody>\n",
              "</table>\n",
              "</div>"
            ],
            "text/plain": [
              "   Junk InteriorsStyle PriceIndex8  ... RegionType PropertyAge  PriceIndex2\n",
              "0     0           6LLJ     14674.0  ...          A           2      10692.0\n",
              "1     1           XZ9F      4172.0  ...          A           7       3615.0\n",
              "2     0           QWEV      8210.0  ...          A           6       5805.0\n",
              "3     0           MK2K      7309.0  ...          C           7       6444.0\n",
              "4     0           GK4G      9182.0  ...          B           3       6286.0\n",
              "\n",
              "[5 rows x 31 columns]"
            ]
          },
          "metadata": {
            "tags": []
          },
          "execution_count": 3
        }
      ]
    },
    {
      "cell_type": "code",
      "metadata": {
        "id": "qeiSseE2X3Ty",
        "colab_type": "code",
        "colab": {
          "base_uri": "https://localhost:8080/",
          "height": 217
        },
        "outputId": "2a7b9292-de97-4689-d36d-9ef4e4cb73a0"
      },
      "source": [
        "test.head()"
      ],
      "execution_count": 4,
      "outputs": [
        {
          "output_type": "execute_result",
          "data": {
            "text/html": [
              "<div>\n",
              "<style scoped>\n",
              "    .dataframe tbody tr th:only-of-type {\n",
              "        vertical-align: middle;\n",
              "    }\n",
              "\n",
              "    .dataframe tbody tr th {\n",
              "        vertical-align: top;\n",
              "    }\n",
              "\n",
              "    .dataframe thead th {\n",
              "        text-align: right;\n",
              "    }\n",
              "</style>\n",
              "<table border=\"1\" class=\"dataframe\">\n",
              "  <thead>\n",
              "    <tr style=\"text-align: right;\">\n",
              "      <th></th>\n",
              "      <th>InteriorsStyle</th>\n",
              "      <th>PriceIndex8</th>\n",
              "      <th>ListDate</th>\n",
              "      <th>Material</th>\n",
              "      <th>PriceIndex9</th>\n",
              "      <th>Agency</th>\n",
              "      <th>AreaIncomeType</th>\n",
              "      <th>EnvRating</th>\n",
              "      <th>PriceIndex7</th>\n",
              "      <th>ExpeditedListing</th>\n",
              "      <th>PriceIndex4</th>\n",
              "      <th>PriceIndex1</th>\n",
              "      <th>PriceIndex6</th>\n",
              "      <th>PRIMEUNIT</th>\n",
              "      <th>Channel</th>\n",
              "      <th>Zip</th>\n",
              "      <th>InsurancePremiumIndex</th>\n",
              "      <th>PlotType</th>\n",
              "      <th>Architecture</th>\n",
              "      <th>PriceIndex3</th>\n",
              "      <th>Region</th>\n",
              "      <th>PriceIndex5</th>\n",
              "      <th>SubModel</th>\n",
              "      <th>Facade</th>\n",
              "      <th>State</th>\n",
              "      <th>NormalisedPopulation</th>\n",
              "      <th>BuildYear</th>\n",
              "      <th>RegionType</th>\n",
              "      <th>PropertyAge</th>\n",
              "      <th>PriceIndex2</th>\n",
              "    </tr>\n",
              "  </thead>\n",
              "  <tbody>\n",
              "    <tr>\n",
              "      <th>0</th>\n",
              "      <td>6LLJ</td>\n",
              "      <td>10645.0</td>\n",
              "      <td>9/22/2010</td>\n",
              "      <td>ZCI3</td>\n",
              "      <td>6015</td>\n",
              "      <td>CAT3</td>\n",
              "      <td>A</td>\n",
              "      <td>missing</td>\n",
              "      <td>9568.0</td>\n",
              "      <td>0</td>\n",
              "      <td>12432.0</td>\n",
              "      <td>6986.0</td>\n",
              "      <td>7133.0</td>\n",
              "      <td>missing</td>\n",
              "      <td>Other</td>\n",
              "      <td>27407</td>\n",
              "      <td>728</td>\n",
              "      <td>WHBI</td>\n",
              "      <td>I3Z9</td>\n",
              "      <td>10860.0</td>\n",
              "      <td>B</td>\n",
              "      <td>5911.0</td>\n",
              "      <td>UA42</td>\n",
              "      <td>BLUE</td>\n",
              "      <td>NC</td>\n",
              "      <td>67549</td>\n",
              "      <td>2006</td>\n",
              "      <td>A</td>\n",
              "      <td>4</td>\n",
              "      <td>8311.0</td>\n",
              "    </tr>\n",
              "    <tr>\n",
              "      <th>1</th>\n",
              "      <td>QD0H</td>\n",
              "      <td>9891.0</td>\n",
              "      <td>3/12/2010</td>\n",
              "      <td>RRJQ</td>\n",
              "      <td>7625</td>\n",
              "      <td>OTHER</td>\n",
              "      <td>A</td>\n",
              "      <td>missing</td>\n",
              "      <td>8888.0</td>\n",
              "      <td>0</td>\n",
              "      <td>12173.0</td>\n",
              "      <td>5954.0</td>\n",
              "      <td>6544.0</td>\n",
              "      <td>missing</td>\n",
              "      <td>Agent</td>\n",
              "      <td>32219</td>\n",
              "      <td>1334</td>\n",
              "      <td>32T2</td>\n",
              "      <td>4GZ4</td>\n",
              "      <td>10166.0</td>\n",
              "      <td>A</td>\n",
              "      <td>5370.0</td>\n",
              "      <td>BUNS</td>\n",
              "      <td>BLUE</td>\n",
              "      <td>FL</td>\n",
              "      <td>56570</td>\n",
              "      <td>2004</td>\n",
              "      <td>B</td>\n",
              "      <td>6</td>\n",
              "      <td>7123.0</td>\n",
              "    </tr>\n",
              "    <tr>\n",
              "      <th>2</th>\n",
              "      <td>I7GR</td>\n",
              "      <td>8426.0</td>\n",
              "      <td>10/12/2009</td>\n",
              "      <td>ZCI3</td>\n",
              "      <td>6900</td>\n",
              "      <td>CAT2</td>\n",
              "      <td>B</td>\n",
              "      <td>missing</td>\n",
              "      <td>7911.0</td>\n",
              "      <td>0</td>\n",
              "      <td>9134.0</td>\n",
              "      <td>7407.0</td>\n",
              "      <td>7339.0</td>\n",
              "      <td>missing</td>\n",
              "      <td>Other</td>\n",
              "      <td>74135</td>\n",
              "      <td>754</td>\n",
              "      <td>WHBI</td>\n",
              "      <td>TP7R</td>\n",
              "      <td>8500.0</td>\n",
              "      <td>A</td>\n",
              "      <td>6862.0</td>\n",
              "      <td>8YTZ</td>\n",
              "      <td>BLACK</td>\n",
              "      <td>OK</td>\n",
              "      <td>51840</td>\n",
              "      <td>2008</td>\n",
              "      <td>A</td>\n",
              "      <td>1</td>\n",
              "      <td>7994.0</td>\n",
              "    </tr>\n",
              "    <tr>\n",
              "      <th>3</th>\n",
              "      <td>5KS5</td>\n",
              "      <td>9269.0</td>\n",
              "      <td>5/20/2010</td>\n",
              "      <td>PRN0</td>\n",
              "      <td>6475</td>\n",
              "      <td>CAT1</td>\n",
              "      <td>B</td>\n",
              "      <td>missing</td>\n",
              "      <td>7773.0</td>\n",
              "      <td>0</td>\n",
              "      <td>8500.0</td>\n",
              "      <td>4241.0</td>\n",
              "      <td>6143.0</td>\n",
              "      <td>missing</td>\n",
              "      <td>Other</td>\n",
              "      <td>80229</td>\n",
              "      <td>1373</td>\n",
              "      <td>WHBI</td>\n",
              "      <td>YIK5</td>\n",
              "      <td>7294.0</td>\n",
              "      <td>A</td>\n",
              "      <td>4872.0</td>\n",
              "      <td>FIVQ</td>\n",
              "      <td>GREEN</td>\n",
              "      <td>CO</td>\n",
              "      <td>83300</td>\n",
              "      <td>2005</td>\n",
              "      <td>A</td>\n",
              "      <td>5</td>\n",
              "      <td>5259.0</td>\n",
              "    </tr>\n",
              "    <tr>\n",
              "      <th>4</th>\n",
              "      <td>918O</td>\n",
              "      <td>5366.0</td>\n",
              "      <td>1/13/2009</td>\n",
              "      <td>C8A4</td>\n",
              "      <td>3960</td>\n",
              "      <td>CAT1</td>\n",
              "      <td>A</td>\n",
              "      <td>missing</td>\n",
              "      <td>4134.0</td>\n",
              "      <td>0</td>\n",
              "      <td>5211.0</td>\n",
              "      <td>3352.0</td>\n",
              "      <td>4506.0</td>\n",
              "      <td>missing</td>\n",
              "      <td>Direct</td>\n",
              "      <td>28625</td>\n",
              "      <td>2939</td>\n",
              "      <td>WHBI</td>\n",
              "      <td>YIK5</td>\n",
              "      <td>4120.0</td>\n",
              "      <td>A</td>\n",
              "      <td>3365.0</td>\n",
              "      <td>KT8F</td>\n",
              "      <td>BLACK</td>\n",
              "      <td>NC</td>\n",
              "      <td>95035</td>\n",
              "      <td>2003</td>\n",
              "      <td>A</td>\n",
              "      <td>6</td>\n",
              "      <td>4362.0</td>\n",
              "    </tr>\n",
              "  </tbody>\n",
              "</table>\n",
              "</div>"
            ],
            "text/plain": [
              "  InteriorsStyle PriceIndex8    ListDate  ... RegionType  PropertyAge PriceIndex2\n",
              "0           6LLJ     10645.0   9/22/2010  ...          A            4      8311.0\n",
              "1           QD0H      9891.0   3/12/2010  ...          B            6      7123.0\n",
              "2           I7GR      8426.0  10/12/2009  ...          A            1      7994.0\n",
              "3           5KS5      9269.0   5/20/2010  ...          A            5      5259.0\n",
              "4           918O      5366.0   1/13/2009  ...          A            6      4362.0\n",
              "\n",
              "[5 rows x 30 columns]"
            ]
          },
          "metadata": {
            "tags": []
          },
          "execution_count": 4
        }
      ]
    },
    {
      "cell_type": "code",
      "metadata": {
        "id": "uS5bJqBiX5QE",
        "colab_type": "code",
        "colab": {
          "base_uri": "https://localhost:8080/",
          "height": 52
        },
        "outputId": "ccd13b36-052e-4648-f11c-cd4ed8842900"
      },
      "source": [
        "a = train.shape\n",
        "b = test.shape\n",
        "print(a)\n",
        "print(b)"
      ],
      "execution_count": 5,
      "outputs": [
        {
          "output_type": "stream",
          "text": [
            "(62035, 31)\n",
            "(10948, 30)\n"
          ],
          "name": "stdout"
        }
      ]
    },
    {
      "cell_type": "code",
      "metadata": {
        "id": "hn9qSYlBTukQ",
        "colab_type": "code",
        "colab": {}
      },
      "source": [
        "train['data'] = 'train'\n",
        "test['data'] = 'test'\n",
        "test['Junk'] = np.nan"
      ],
      "execution_count": 6,
      "outputs": []
    },
    {
      "cell_type": "code",
      "metadata": {
        "id": "0xHqk0R_GDhK",
        "colab_type": "code",
        "colab": {
          "base_uri": "https://localhost:8080/",
          "height": 603
        },
        "outputId": "b674629c-e8d4-476e-cb7e-8e9a6d74eaaa"
      },
      "source": [
        "train.dtypes"
      ],
      "execution_count": 7,
      "outputs": [
        {
          "output_type": "execute_result",
          "data": {
            "text/plain": [
              "Junk                      int64\n",
              "InteriorsStyle           object\n",
              "PriceIndex8              object\n",
              "ListDate                 object\n",
              "Material                 object\n",
              "PriceIndex9               int64\n",
              "Agency                   object\n",
              "AreaIncomeType           object\n",
              "EnvRating                object\n",
              "PriceIndex7              object\n",
              "ExpeditedListing          int64\n",
              "PriceIndex4              object\n",
              "PriceIndex1              object\n",
              "PriceIndex6              object\n",
              "PRIMEUNIT                object\n",
              "Channel                  object\n",
              "Zip                       int64\n",
              "InsurancePremiumIndex     int64\n",
              "PlotType                 object\n",
              "Architecture             object\n",
              "PriceIndex3              object\n",
              "Region                   object\n",
              "PriceIndex5              object\n",
              "SubModel                 object\n",
              "Facade                   object\n",
              "State                    object\n",
              "NormalisedPopulation      int64\n",
              "BuildYear                 int64\n",
              "RegionType               object\n",
              "PropertyAge               int64\n",
              "PriceIndex2              object\n",
              "data                     object\n",
              "dtype: object"
            ]
          },
          "metadata": {
            "tags": []
          },
          "execution_count": 7
        }
      ]
    },
    {
      "cell_type": "code",
      "metadata": {
        "id": "dkpWAYl4ZZab",
        "colab_type": "code",
        "colab": {
          "base_uri": "https://localhost:8080/",
          "height": 52
        },
        "outputId": "c03063e0-79a4-424e-d113-ff1d425b7106"
      },
      "source": [
        "a = train.shape\n",
        "b = test.shape\n",
        "print(a)\n",
        "print(b)"
      ],
      "execution_count": 8,
      "outputs": [
        {
          "output_type": "stream",
          "text": [
            "(62035, 32)\n",
            "(10948, 32)\n"
          ],
          "name": "stdout"
        }
      ]
    },
    {
      "cell_type": "code",
      "metadata": {
        "id": "9YJAb5wQDzD1",
        "colab_type": "code",
        "colab": {}
      },
      "source": [
        "file = pd.concat([train,test],axis=0)"
      ],
      "execution_count": 9,
      "outputs": []
    },
    {
      "cell_type": "code",
      "metadata": {
        "id": "rhyg3aaeEM18",
        "colab_type": "code",
        "colab": {
          "base_uri": "https://localhost:8080/",
          "height": 603
        },
        "outputId": "27cb3930-493d-4f89-e713-46833c833b5c"
      },
      "source": [
        "file.dtypes"
      ],
      "execution_count": 10,
      "outputs": [
        {
          "output_type": "execute_result",
          "data": {
            "text/plain": [
              "Junk                     float64\n",
              "InteriorsStyle            object\n",
              "PriceIndex8               object\n",
              "ListDate                  object\n",
              "Material                  object\n",
              "PriceIndex9                int64\n",
              "Agency                    object\n",
              "AreaIncomeType            object\n",
              "EnvRating                 object\n",
              "PriceIndex7               object\n",
              "ExpeditedListing           int64\n",
              "PriceIndex4               object\n",
              "PriceIndex1               object\n",
              "PriceIndex6               object\n",
              "PRIMEUNIT                 object\n",
              "Channel                   object\n",
              "Zip                        int64\n",
              "InsurancePremiumIndex      int64\n",
              "PlotType                  object\n",
              "Architecture              object\n",
              "PriceIndex3               object\n",
              "Region                    object\n",
              "PriceIndex5               object\n",
              "SubModel                  object\n",
              "Facade                    object\n",
              "State                     object\n",
              "NormalisedPopulation       int64\n",
              "BuildYear                  int64\n",
              "RegionType                object\n",
              "PropertyAge                int64\n",
              "PriceIndex2               object\n",
              "data                      object\n",
              "dtype: object"
            ]
          },
          "metadata": {
            "tags": []
          },
          "execution_count": 10
        }
      ]
    },
    {
      "cell_type": "code",
      "metadata": {
        "id": "4UwjRXnjEaqA",
        "colab_type": "code",
        "colab": {
          "base_uri": "https://localhost:8080/",
          "height": 603
        },
        "outputId": "74512ef8-ed0f-4f77-fa33-5f3fda565cdf"
      },
      "source": [
        "file.isnull().sum()"
      ],
      "execution_count": 11,
      "outputs": [
        {
          "output_type": "execute_result",
          "data": {
            "text/plain": [
              "Junk                     10948\n",
              "InteriorsStyle               0\n",
              "PriceIndex8                  0\n",
              "ListDate                     0\n",
              "Material                     0\n",
              "PriceIndex9                  0\n",
              "Agency                       0\n",
              "AreaIncomeType               0\n",
              "EnvRating                    0\n",
              "PriceIndex7                  0\n",
              "ExpeditedListing             0\n",
              "PriceIndex4                  0\n",
              "PriceIndex1                  0\n",
              "PriceIndex6                  0\n",
              "PRIMEUNIT                    0\n",
              "Channel                      0\n",
              "Zip                          0\n",
              "InsurancePremiumIndex        0\n",
              "PlotType                     0\n",
              "Architecture                 0\n",
              "PriceIndex3                  0\n",
              "Region                       0\n",
              "PriceIndex5                  0\n",
              "SubModel                     0\n",
              "Facade                       0\n",
              "State                        0\n",
              "NormalisedPopulation         0\n",
              "BuildYear                    0\n",
              "RegionType                   0\n",
              "PropertyAge                  0\n",
              "PriceIndex2                  0\n",
              "data                         0\n",
              "dtype: int64"
            ]
          },
          "metadata": {
            "tags": []
          },
          "execution_count": 11
        }
      ]
    },
    {
      "cell_type": "code",
      "metadata": {
        "id": "n6d4r2TyG_MF",
        "colab_type": "code",
        "colab": {
          "base_uri": "https://localhost:8080/",
          "height": 194
        },
        "outputId": "d65c17c5-0eb8-402e-be9f-5a0e15908bb9"
      },
      "source": [
        "file[['ListDate','Zip','SubModel','Architecture','Channel','Facade','EnvRating','PlotType','State']].nunique()"
      ],
      "execution_count": 12,
      "outputs": [
        {
          "output_type": "execute_result",
          "data": {
            "text/plain": [
              "ListDate        517\n",
              "Zip             153\n",
              "SubModel        864\n",
              "Architecture     33\n",
              "Channel           3\n",
              "Facade           17\n",
              "EnvRating         3\n",
              "PlotType         13\n",
              "State            37\n",
              "dtype: int64"
            ]
          },
          "metadata": {
            "tags": []
          },
          "execution_count": 12
        }
      ]
    },
    {
      "cell_type": "code",
      "metadata": {
        "id": "udC7pe_OVgTj",
        "colab_type": "code",
        "colab": {}
      },
      "source": [
        "file = file.drop(['ListDate','Zip','SubModel'],axis=1)"
      ],
      "execution_count": 13,
      "outputs": []
    },
    {
      "cell_type": "code",
      "metadata": {
        "id": "FCutxXTRVxhp",
        "colab_type": "code",
        "colab": {
          "base_uri": "https://localhost:8080/",
          "height": 34
        },
        "outputId": "2f995e82-0afd-4707-a1e7-3c419a55e5b0"
      },
      "source": [
        "file.shape"
      ],
      "execution_count": 14,
      "outputs": [
        {
          "output_type": "execute_result",
          "data": {
            "text/plain": [
              "(72983, 29)"
            ]
          },
          "metadata": {
            "tags": []
          },
          "execution_count": 14
        }
      ]
    },
    {
      "cell_type": "code",
      "metadata": {
        "id": "qcB6eMAWYFsX",
        "colab_type": "code",
        "colab": {}
      },
      "source": [
        "file = file.fillna(file.mean())"
      ],
      "execution_count": 15,
      "outputs": []
    },
    {
      "cell_type": "code",
      "metadata": {
        "id": "WwekHZMAbWO6",
        "colab_type": "code",
        "colab": {}
      },
      "source": [
        "file.Junk = file.Junk.astype(int)"
      ],
      "execution_count": 16,
      "outputs": []
    },
    {
      "cell_type": "code",
      "metadata": {
        "id": "XcaE52DEYIBs",
        "colab_type": "code",
        "colab": {
          "base_uri": "https://localhost:8080/",
          "height": 217
        },
        "outputId": "206fcb3b-d022-4a98-90f2-185a9ebd1496"
      },
      "source": [
        "file.head()"
      ],
      "execution_count": 17,
      "outputs": [
        {
          "output_type": "execute_result",
          "data": {
            "text/html": [
              "<div>\n",
              "<style scoped>\n",
              "    .dataframe tbody tr th:only-of-type {\n",
              "        vertical-align: middle;\n",
              "    }\n",
              "\n",
              "    .dataframe tbody tr th {\n",
              "        vertical-align: top;\n",
              "    }\n",
              "\n",
              "    .dataframe thead th {\n",
              "        text-align: right;\n",
              "    }\n",
              "</style>\n",
              "<table border=\"1\" class=\"dataframe\">\n",
              "  <thead>\n",
              "    <tr style=\"text-align: right;\">\n",
              "      <th></th>\n",
              "      <th>Junk</th>\n",
              "      <th>InteriorsStyle</th>\n",
              "      <th>PriceIndex8</th>\n",
              "      <th>Material</th>\n",
              "      <th>PriceIndex9</th>\n",
              "      <th>Agency</th>\n",
              "      <th>AreaIncomeType</th>\n",
              "      <th>EnvRating</th>\n",
              "      <th>PriceIndex7</th>\n",
              "      <th>ExpeditedListing</th>\n",
              "      <th>PriceIndex4</th>\n",
              "      <th>PriceIndex1</th>\n",
              "      <th>PriceIndex6</th>\n",
              "      <th>PRIMEUNIT</th>\n",
              "      <th>Channel</th>\n",
              "      <th>InsurancePremiumIndex</th>\n",
              "      <th>PlotType</th>\n",
              "      <th>Architecture</th>\n",
              "      <th>PriceIndex3</th>\n",
              "      <th>Region</th>\n",
              "      <th>PriceIndex5</th>\n",
              "      <th>Facade</th>\n",
              "      <th>State</th>\n",
              "      <th>NormalisedPopulation</th>\n",
              "      <th>BuildYear</th>\n",
              "      <th>RegionType</th>\n",
              "      <th>PropertyAge</th>\n",
              "      <th>PriceIndex2</th>\n",
              "      <th>data</th>\n",
              "    </tr>\n",
              "  </thead>\n",
              "  <tbody>\n",
              "    <tr>\n",
              "      <th>0</th>\n",
              "      <td>0</td>\n",
              "      <td>6LLJ</td>\n",
              "      <td>14674.0</td>\n",
              "      <td>UT7W</td>\n",
              "      <td>8270</td>\n",
              "      <td>CAT3</td>\n",
              "      <td>B</td>\n",
              "      <td>missing</td>\n",
              "      <td>13143.0</td>\n",
              "      <td>0</td>\n",
              "      <td>14224.0</td>\n",
              "      <td>9217.0</td>\n",
              "      <td>10387.0</td>\n",
              "      <td>missing</td>\n",
              "      <td>Direct</td>\n",
              "      <td>623</td>\n",
              "      <td>WHBI</td>\n",
              "      <td>I3Z9</td>\n",
              "      <td>13108.0</td>\n",
              "      <td>A</td>\n",
              "      <td>9022.0</td>\n",
              "      <td>GREEN</td>\n",
              "      <td>MD</td>\n",
              "      <td>42077</td>\n",
              "      <td>2008</td>\n",
              "      <td>A</td>\n",
              "      <td>2</td>\n",
              "      <td>10692.0</td>\n",
              "      <td>train</td>\n",
              "    </tr>\n",
              "    <tr>\n",
              "      <th>1</th>\n",
              "      <td>1</td>\n",
              "      <td>XZ9F</td>\n",
              "      <td>4172.0</td>\n",
              "      <td>PRN0</td>\n",
              "      <td>3890</td>\n",
              "      <td>CAT2</td>\n",
              "      <td>B</td>\n",
              "      <td>missing</td>\n",
              "      <td>3461.0</td>\n",
              "      <td>0</td>\n",
              "      <td>4404.0</td>\n",
              "      <td>2958.0</td>\n",
              "      <td>3400.0</td>\n",
              "      <td>missing</td>\n",
              "      <td>Direct</td>\n",
              "      <td>1689</td>\n",
              "      <td>WHBI</td>\n",
              "      <td>AVYP</td>\n",
              "      <td>3695.0</td>\n",
              "      <td>A</td>\n",
              "      <td>2742.0</td>\n",
              "      <td>SILVER</td>\n",
              "      <td>OK</td>\n",
              "      <td>77258</td>\n",
              "      <td>2002</td>\n",
              "      <td>A</td>\n",
              "      <td>7</td>\n",
              "      <td>3615.0</td>\n",
              "      <td>train</td>\n",
              "    </tr>\n",
              "    <tr>\n",
              "      <th>2</th>\n",
              "      <td>0</td>\n",
              "      <td>QWEV</td>\n",
              "      <td>8210.0</td>\n",
              "      <td>A9RA</td>\n",
              "      <td>5900</td>\n",
              "      <td>CAT1</td>\n",
              "      <td>B</td>\n",
              "      <td>missing</td>\n",
              "      <td>6922.0</td>\n",
              "      <td>0</td>\n",
              "      <td>8952.0</td>\n",
              "      <td>4568.0</td>\n",
              "      <td>4862.0</td>\n",
              "      <td>missing</td>\n",
              "      <td>Other</td>\n",
              "      <td>2351</td>\n",
              "      <td>W62B</td>\n",
              "      <td>1M5X</td>\n",
              "      <td>7730.0</td>\n",
              "      <td>A</td>\n",
              "      <td>3768.0</td>\n",
              "      <td>SILVER</td>\n",
              "      <td>SC</td>\n",
              "      <td>94514</td>\n",
              "      <td>2004</td>\n",
              "      <td>A</td>\n",
              "      <td>6</td>\n",
              "      <td>5805.0</td>\n",
              "      <td>train</td>\n",
              "    </tr>\n",
              "    <tr>\n",
              "      <th>3</th>\n",
              "      <td>0</td>\n",
              "      <td>MK2K</td>\n",
              "      <td>7309.0</td>\n",
              "      <td>RRJQ</td>\n",
              "      <td>7460</td>\n",
              "      <td>OTHER</td>\n",
              "      <td>A</td>\n",
              "      <td>missing</td>\n",
              "      <td>6300.0</td>\n",
              "      <td>0</td>\n",
              "      <td>7460.0</td>\n",
              "      <td>5361.0</td>\n",
              "      <td>6305.0</td>\n",
              "      <td>missing</td>\n",
              "      <td>Agent</td>\n",
              "      <td>1933</td>\n",
              "      <td>WLQ6</td>\n",
              "      <td>DKOO</td>\n",
              "      <td>6290.0</td>\n",
              "      <td>A</td>\n",
              "      <td>5370.0</td>\n",
              "      <td>WHITE</td>\n",
              "      <td>NC</td>\n",
              "      <td>82302</td>\n",
              "      <td>2002</td>\n",
              "      <td>C</td>\n",
              "      <td>7</td>\n",
              "      <td>6444.0</td>\n",
              "      <td>train</td>\n",
              "    </tr>\n",
              "    <tr>\n",
              "      <th>4</th>\n",
              "      <td>0</td>\n",
              "      <td>GK4G</td>\n",
              "      <td>9182.0</td>\n",
              "      <td>HE5A</td>\n",
              "      <td>6400</td>\n",
              "      <td>OTHER</td>\n",
              "      <td>B</td>\n",
              "      <td>missing</td>\n",
              "      <td>8330.0</td>\n",
              "      <td>0</td>\n",
              "      <td>9846.0</td>\n",
              "      <td>5428.0</td>\n",
              "      <td>5718.0</td>\n",
              "      <td>missing</td>\n",
              "      <td>Other</td>\n",
              "      <td>482</td>\n",
              "      <td>WHBI</td>\n",
              "      <td>KML6</td>\n",
              "      <td>8583.0</td>\n",
              "      <td>A</td>\n",
              "      <td>4803.0</td>\n",
              "      <td>SILVER</td>\n",
              "      <td>SC</td>\n",
              "      <td>49176</td>\n",
              "      <td>2007</td>\n",
              "      <td>B</td>\n",
              "      <td>3</td>\n",
              "      <td>6286.0</td>\n",
              "      <td>train</td>\n",
              "    </tr>\n",
              "  </tbody>\n",
              "</table>\n",
              "</div>"
            ],
            "text/plain": [
              "   Junk InteriorsStyle PriceIndex8  ... PropertyAge  PriceIndex2   data\n",
              "0     0           6LLJ     14674.0  ...           2      10692.0  train\n",
              "1     1           XZ9F      4172.0  ...           7       3615.0  train\n",
              "2     0           QWEV      8210.0  ...           6       5805.0  train\n",
              "3     0           MK2K      7309.0  ...           7       6444.0  train\n",
              "4     0           GK4G      9182.0  ...           3       6286.0  train\n",
              "\n",
              "[5 rows x 29 columns]"
            ]
          },
          "metadata": {
            "tags": []
          },
          "execution_count": 17
        }
      ]
    },
    {
      "cell_type": "code",
      "metadata": {
        "id": "Gj8FRqc-HZG-",
        "colab_type": "code",
        "colab": {
          "base_uri": "https://localhost:8080/",
          "height": 123
        },
        "outputId": "e6f8167e-4cb4-4ec0-83fb-be9a1d282954"
      },
      "source": [
        "cat_cols = file.select_dtypes(include=object).columns[:-1]\n",
        "cat_cols"
      ],
      "execution_count": 18,
      "outputs": [
        {
          "output_type": "execute_result",
          "data": {
            "text/plain": [
              "Index(['InteriorsStyle', 'PriceIndex8', 'Material', 'Agency', 'AreaIncomeType',\n",
              "       'EnvRating', 'PriceIndex7', 'PriceIndex4', 'PriceIndex1', 'PriceIndex6',\n",
              "       'PRIMEUNIT', 'Channel', 'PlotType', 'Architecture', 'PriceIndex3',\n",
              "       'Region', 'PriceIndex5', 'Facade', 'State', 'RegionType',\n",
              "       'PriceIndex2'],\n",
              "      dtype='object')"
            ]
          },
          "metadata": {
            "tags": []
          },
          "execution_count": 18
        }
      ]
    },
    {
      "cell_type": "code",
      "metadata": {
        "id": "d5CUx3RmIDyx",
        "colab_type": "code",
        "colab": {}
      },
      "source": [
        "def Create_Dummies(file,cat_cols):\n",
        "    for col in cat_cols:\n",
        "        freqs=file[col].value_counts()\n",
        "        k=freqs.index[freqs>50][:-1]\n",
        "        for cat in k:\n",
        "            name=col+'_'+cat\n",
        "            file[name]=(file[col]==cat).astype(int)\n",
        "        del file[col]\n",
        "        print(col)"
      ],
      "execution_count": 19,
      "outputs": []
    },
    {
      "cell_type": "code",
      "metadata": {
        "id": "JEJzNXbqMn0x",
        "colab_type": "code",
        "colab": {
          "base_uri": "https://localhost:8080/",
          "height": 390
        },
        "outputId": "0edc2619-8da5-416b-9141-674108ce8f5f"
      },
      "source": [
        "Create_Dummies(file,cat_cols)"
      ],
      "execution_count": 20,
      "outputs": [
        {
          "output_type": "stream",
          "text": [
            "InteriorsStyle\n",
            "PriceIndex8\n",
            "Material\n",
            "Agency\n",
            "AreaIncomeType\n",
            "EnvRating\n",
            "PriceIndex7\n",
            "PriceIndex4\n",
            "PriceIndex1\n",
            "PriceIndex6\n",
            "PRIMEUNIT\n",
            "Channel\n",
            "PlotType\n",
            "Architecture\n",
            "PriceIndex3\n",
            "Region\n",
            "PriceIndex5\n",
            "Facade\n",
            "State\n",
            "RegionType\n",
            "PriceIndex2\n"
          ],
          "name": "stdout"
        }
      ]
    },
    {
      "cell_type": "code",
      "metadata": {
        "id": "FCGulJtYgL5X",
        "colab_type": "code",
        "colab": {
          "base_uri": "https://localhost:8080/",
          "height": 230
        },
        "outputId": "e672b9fc-8396-481e-e019-0d5dc15cf787"
      },
      "source": [
        "file.dtypes"
      ],
      "execution_count": 32,
      "outputs": [
        {
          "output_type": "execute_result",
          "data": {
            "text/plain": [
              "Junk                     int64\n",
              "PriceIndex9              int64\n",
              "ExpeditedListing         int64\n",
              "InsurancePremiumIndex    int64\n",
              "NormalisedPopulation     int64\n",
              "                         ...  \n",
              "PriceIndex2_8287.0       int64\n",
              "PriceIndex2_8151.0       int64\n",
              "PriceIndex2_8711.0       int64\n",
              "PriceIndex2_4516.0       int64\n",
              "PriceIndex2_8168.0       int64\n",
              "Length: 687, dtype: object"
            ]
          },
          "metadata": {
            "tags": []
          },
          "execution_count": 32
        }
      ]
    },
    {
      "cell_type": "code",
      "metadata": {
        "id": "cbxdhvdAe9Yr",
        "colab_type": "code",
        "colab": {}
      },
      "source": [
        "X = file.drop(['Junk','data'],axis=1)\n",
        "y = file['Junk']"
      ],
      "execution_count": 40,
      "outputs": []
    },
    {
      "cell_type": "code",
      "metadata": {
        "id": "geQ24CwngQ_u",
        "colab_type": "code",
        "colab": {
          "base_uri": "https://localhost:8080/",
          "height": 34
        },
        "outputId": "0ddba124-8ba9-4e84-8641-b0d5a8978d78"
      },
      "source": [
        "y.dtypes"
      ],
      "execution_count": 41,
      "outputs": [
        {
          "output_type": "execute_result",
          "data": {
            "text/plain": [
              "dtype('int64')"
            ]
          },
          "metadata": {
            "tags": []
          },
          "execution_count": 41
        }
      ]
    },
    {
      "cell_type": "code",
      "metadata": {
        "id": "bcML2jNjeRTL",
        "colab_type": "code",
        "colab": {}
      },
      "source": [
        "X_train,X_test,y_train,y_test = train_test_split(X,y,test_size=0.2,random_state=2)"
      ],
      "execution_count": 42,
      "outputs": []
    },
    {
      "cell_type": "code",
      "metadata": {
        "id": "d6Hmxhw4fdGi",
        "colab_type": "code",
        "colab": {}
      },
      "source": [
        "model = LogisticRegression()"
      ],
      "execution_count": 44,
      "outputs": []
    },
    {
      "cell_type": "code",
      "metadata": {
        "id": "m4IdcKiyfdDL",
        "colab_type": "code",
        "colab": {
          "base_uri": "https://localhost:8080/",
          "height": 105
        },
        "outputId": "f6b101cc-24d6-4bcd-9b81-29b09035a7b4"
      },
      "source": [
        "model.fit(X_train,y_train)"
      ],
      "execution_count": 45,
      "outputs": [
        {
          "output_type": "execute_result",
          "data": {
            "text/plain": [
              "LogisticRegression(C=1.0, class_weight=None, dual=False, fit_intercept=True,\n",
              "                   intercept_scaling=1, l1_ratio=None, max_iter=100,\n",
              "                   multi_class='auto', n_jobs=None, penalty='l2',\n",
              "                   random_state=None, solver='lbfgs', tol=0.0001, verbose=0,\n",
              "                   warm_start=False)"
            ]
          },
          "metadata": {
            "tags": []
          },
          "execution_count": 45
        }
      ]
    },
    {
      "cell_type": "code",
      "metadata": {
        "id": "WLOpzZfGfdAQ",
        "colab_type": "code",
        "colab": {}
      },
      "source": [
        "prediction = model.predict(X_test)"
      ],
      "execution_count": 47,
      "outputs": []
    },
    {
      "cell_type": "code",
      "metadata": {
        "id": "NcbJ7GVVfc9Q",
        "colab_type": "code",
        "colab": {
          "base_uri": "https://localhost:8080/",
          "height": 34
        },
        "outputId": "75fe1491-644e-437e-df31-8db335a0e248"
      },
      "source": [
        "roc_auc_score(y_test,prediction)"
      ],
      "execution_count": 48,
      "outputs": [
        {
          "output_type": "execute_result",
          "data": {
            "text/plain": [
              "0.5"
            ]
          },
          "metadata": {
            "tags": []
          },
          "execution_count": 48
        }
      ]
    },
    {
      "cell_type": "code",
      "metadata": {
        "id": "F4awd6UufcxH",
        "colab_type": "code",
        "colab": {}
      },
      "source": [
        "clf = RandomForestClassifier(verbose=1,n_jobs=-1)\n",
        "# this here is the base classifier we are going to try\n",
        "# we will be supplying different parameter ranges to our randomSearchCV which in turn\n",
        "# will pass it on to this classifier\n",
        "\n",
        "# Utility function to report best scores. This simply accepts grid scores from \n",
        "# our randomSearchCV/GridSearchCV and picks and gives top few combination according to \n",
        "# their scores\n",
        "\n",
        "def report(grid_scores, n_top=3):\n",
        "    top_scores = sorted(grid_scores, key=itemgetter(1), reverse=True)[:n_top]\n",
        "    # above line selects top n grid scores\n",
        "    # for loop below , prints the rank, score and parameter combination\n",
        "    for i, score in enumerate(top_scores):\n",
        "        print(\"Model with rank: {0}\".format(i + 1))\n",
        "        print(\"Mean validation score: {0:.3f} (std: {1:.3f})\".format(\n",
        "              score.mean_validation_score,\n",
        "              np.std(score.cv_validation_scores)))\n",
        "        print(\"Parameters: {0}\".format(score.parameters))\n",
        "        print(\"\")\n",
        "    \n",
        "# RandomSearchCV/GridSearchCV accept parameters values as dictionaries.\n",
        "# In example given below we have constructed dictionary for \n",
        "#different parameter values that we want to\n",
        "# try for randomForest model\n",
        "param_dist = {\"n_estimators\":[10,100,500,700],\n",
        "              \"max_depth\": [3,5, None],\n",
        "              \"max_features\": sp_randint(5, 11),\n",
        "              \"min_samples_split\": sp_randint(5, 11),\n",
        "              \"min_samples_leaf\": sp_randint(5, 11),\n",
        "              \"bootstrap\": [True, False],\n",
        "              \"criterion\": [\"gini\", \"entropy\"]}\n",
        "# run randomized search\n",
        "n_iter_search = 10\n",
        "# n_iter parameter of RandomizedSeacrhCV controls, how many \n",
        "# parameter combination will be tried; out of all possible given values\n",
        "\n",
        "random_search = RandomizedSearchCV(clf, param_distributions=param_dist,\n",
        "                                   n_iter=n_iter_search)"
      ],
      "execution_count": 56,
      "outputs": []
    },
    {
      "cell_type": "code",
      "metadata": {
        "id": "-MT5kY79k6do",
        "colab_type": "code",
        "colab": {
          "base_uri": "https://localhost:8080/",
          "height": 1000
        },
        "outputId": "c77ad71b-c1c6-4fd6-a111-714b1aa8dedd"
      },
      "source": [
        "random_search.fit(X_train,y_train)"
      ],
      "execution_count": 57,
      "outputs": [
        {
          "output_type": "stream",
          "text": [
            "[Parallel(n_jobs=-1)]: Using backend LokyBackend with 2 concurrent workers.\n",
            "[Parallel(n_jobs=-1)]: Done  10 out of  10 | elapsed:    1.1s finished\n",
            "[Parallel(n_jobs=2)]: Using backend ThreadingBackend with 2 concurrent workers.\n",
            "[Parallel(n_jobs=2)]: Done  10 out of  10 | elapsed:    0.0s finished\n",
            "[Parallel(n_jobs=-1)]: Using backend LokyBackend with 2 concurrent workers.\n",
            "[Parallel(n_jobs=-1)]: Done  10 out of  10 | elapsed:    0.2s finished\n",
            "[Parallel(n_jobs=2)]: Using backend ThreadingBackend with 2 concurrent workers.\n",
            "[Parallel(n_jobs=2)]: Done  10 out of  10 | elapsed:    0.0s finished\n",
            "[Parallel(n_jobs=-1)]: Using backend LokyBackend with 2 concurrent workers.\n",
            "[Parallel(n_jobs=-1)]: Done  10 out of  10 | elapsed:    0.2s finished\n",
            "[Parallel(n_jobs=2)]: Using backend ThreadingBackend with 2 concurrent workers.\n",
            "[Parallel(n_jobs=2)]: Done  10 out of  10 | elapsed:    0.0s finished\n",
            "[Parallel(n_jobs=-1)]: Using backend LokyBackend with 2 concurrent workers.\n",
            "[Parallel(n_jobs=-1)]: Done  10 out of  10 | elapsed:    0.2s finished\n",
            "[Parallel(n_jobs=2)]: Using backend ThreadingBackend with 2 concurrent workers.\n",
            "[Parallel(n_jobs=2)]: Done  10 out of  10 | elapsed:    0.0s finished\n",
            "[Parallel(n_jobs=-1)]: Using backend LokyBackend with 2 concurrent workers.\n",
            "[Parallel(n_jobs=-1)]: Done  10 out of  10 | elapsed:    0.2s finished\n",
            "[Parallel(n_jobs=2)]: Using backend ThreadingBackend with 2 concurrent workers.\n",
            "[Parallel(n_jobs=2)]: Done  10 out of  10 | elapsed:    0.0s finished\n",
            "[Parallel(n_jobs=-1)]: Using backend LokyBackend with 2 concurrent workers.\n",
            "[Parallel(n_jobs=-1)]: Done  10 out of  10 | elapsed:    0.2s finished\n",
            "[Parallel(n_jobs=2)]: Using backend ThreadingBackend with 2 concurrent workers.\n",
            "[Parallel(n_jobs=2)]: Done  10 out of  10 | elapsed:    0.0s finished\n",
            "[Parallel(n_jobs=-1)]: Using backend LokyBackend with 2 concurrent workers.\n",
            "[Parallel(n_jobs=-1)]: Done  10 out of  10 | elapsed:    0.2s finished\n",
            "[Parallel(n_jobs=2)]: Using backend ThreadingBackend with 2 concurrent workers.\n",
            "[Parallel(n_jobs=2)]: Done  10 out of  10 | elapsed:    0.0s finished\n",
            "[Parallel(n_jobs=-1)]: Using backend LokyBackend with 2 concurrent workers.\n",
            "[Parallel(n_jobs=-1)]: Done  10 out of  10 | elapsed:    0.2s finished\n",
            "[Parallel(n_jobs=2)]: Using backend ThreadingBackend with 2 concurrent workers.\n",
            "[Parallel(n_jobs=2)]: Done  10 out of  10 | elapsed:    0.0s finished\n",
            "[Parallel(n_jobs=-1)]: Using backend LokyBackend with 2 concurrent workers.\n",
            "[Parallel(n_jobs=-1)]: Done  10 out of  10 | elapsed:    0.2s finished\n",
            "[Parallel(n_jobs=2)]: Using backend ThreadingBackend with 2 concurrent workers.\n",
            "[Parallel(n_jobs=2)]: Done  10 out of  10 | elapsed:    0.0s finished\n",
            "[Parallel(n_jobs=-1)]: Using backend LokyBackend with 2 concurrent workers.\n",
            "[Parallel(n_jobs=-1)]: Done  10 out of  10 | elapsed:    0.2s finished\n",
            "[Parallel(n_jobs=2)]: Using backend ThreadingBackend with 2 concurrent workers.\n",
            "[Parallel(n_jobs=2)]: Done  10 out of  10 | elapsed:    0.0s finished\n",
            "[Parallel(n_jobs=-1)]: Using backend LokyBackend with 2 concurrent workers.\n",
            "[Parallel(n_jobs=-1)]: Done 300 tasks      | elapsed:    3.2s\n",
            "[Parallel(n_jobs=-1)]: Done 500 out of 500 | elapsed:    5.3s finished\n",
            "[Parallel(n_jobs=2)]: Using backend ThreadingBackend with 2 concurrent workers.\n",
            "[Parallel(n_jobs=2)]: Done  46 tasks      | elapsed:    0.0s\n",
            "[Parallel(n_jobs=2)]: Done 196 tasks      | elapsed:    0.1s\n",
            "[Parallel(n_jobs=2)]: Done 446 tasks      | elapsed:    0.3s\n",
            "[Parallel(n_jobs=2)]: Done 500 out of 500 | elapsed:    0.3s finished\n",
            "[Parallel(n_jobs=-1)]: Using backend LokyBackend with 2 concurrent workers.\n",
            "[Parallel(n_jobs=-1)]: Done 300 tasks      | elapsed:    3.3s\n",
            "[Parallel(n_jobs=-1)]: Done 500 out of 500 | elapsed:    5.4s finished\n",
            "[Parallel(n_jobs=2)]: Using backend ThreadingBackend with 2 concurrent workers.\n",
            "[Parallel(n_jobs=2)]: Done  46 tasks      | elapsed:    0.0s\n",
            "[Parallel(n_jobs=2)]: Done 196 tasks      | elapsed:    0.1s\n",
            "[Parallel(n_jobs=2)]: Done 446 tasks      | elapsed:    0.3s\n",
            "[Parallel(n_jobs=2)]: Done 500 out of 500 | elapsed:    0.3s finished\n",
            "[Parallel(n_jobs=-1)]: Using backend LokyBackend with 2 concurrent workers.\n",
            "[Parallel(n_jobs=-1)]: Done 300 tasks      | elapsed:    3.2s\n",
            "[Parallel(n_jobs=-1)]: Done 500 out of 500 | elapsed:    5.3s finished\n",
            "[Parallel(n_jobs=2)]: Using backend ThreadingBackend with 2 concurrent workers.\n",
            "[Parallel(n_jobs=2)]: Done  46 tasks      | elapsed:    0.0s\n",
            "[Parallel(n_jobs=2)]: Done 196 tasks      | elapsed:    0.1s\n",
            "[Parallel(n_jobs=2)]: Done 446 tasks      | elapsed:    0.3s\n",
            "[Parallel(n_jobs=2)]: Done 500 out of 500 | elapsed:    0.3s finished\n",
            "[Parallel(n_jobs=-1)]: Using backend LokyBackend with 2 concurrent workers.\n",
            "[Parallel(n_jobs=-1)]: Done 300 tasks      | elapsed:    3.2s\n",
            "[Parallel(n_jobs=-1)]: Done 500 out of 500 | elapsed:    5.3s finished\n",
            "[Parallel(n_jobs=2)]: Using backend ThreadingBackend with 2 concurrent workers.\n",
            "[Parallel(n_jobs=2)]: Done  46 tasks      | elapsed:    0.0s\n",
            "[Parallel(n_jobs=2)]: Done 196 tasks      | elapsed:    0.1s\n",
            "[Parallel(n_jobs=2)]: Done 446 tasks      | elapsed:    0.3s\n",
            "[Parallel(n_jobs=2)]: Done 500 out of 500 | elapsed:    0.3s finished\n",
            "[Parallel(n_jobs=-1)]: Using backend LokyBackend with 2 concurrent workers.\n",
            "[Parallel(n_jobs=-1)]: Done 300 tasks      | elapsed:    3.3s\n",
            "[Parallel(n_jobs=-1)]: Done 500 out of 500 | elapsed:    5.3s finished\n",
            "[Parallel(n_jobs=2)]: Using backend ThreadingBackend with 2 concurrent workers.\n",
            "[Parallel(n_jobs=2)]: Done  46 tasks      | elapsed:    0.0s\n",
            "[Parallel(n_jobs=2)]: Done 196 tasks      | elapsed:    0.1s\n",
            "[Parallel(n_jobs=2)]: Done 446 tasks      | elapsed:    0.3s\n",
            "[Parallel(n_jobs=2)]: Done 500 out of 500 | elapsed:    0.3s finished\n",
            "[Parallel(n_jobs=-1)]: Using backend LokyBackend with 2 concurrent workers.\n",
            "[Parallel(n_jobs=-1)]: Done  88 tasks      | elapsed:    3.3s\n",
            "[Parallel(n_jobs=-1)]: Done 100 out of 100 | elapsed:    3.7s finished\n",
            "[Parallel(n_jobs=2)]: Using backend ThreadingBackend with 2 concurrent workers.\n",
            "[Parallel(n_jobs=2)]: Done  46 tasks      | elapsed:    0.1s\n",
            "[Parallel(n_jobs=2)]: Done 100 out of 100 | elapsed:    0.2s finished\n",
            "[Parallel(n_jobs=-1)]: Using backend LokyBackend with 2 concurrent workers.\n",
            "[Parallel(n_jobs=-1)]: Done  88 tasks      | elapsed:    3.2s\n",
            "[Parallel(n_jobs=-1)]: Done 100 out of 100 | elapsed:    3.6s finished\n",
            "[Parallel(n_jobs=2)]: Using backend ThreadingBackend with 2 concurrent workers.\n",
            "[Parallel(n_jobs=2)]: Done  46 tasks      | elapsed:    0.1s\n",
            "[Parallel(n_jobs=2)]: Done 100 out of 100 | elapsed:    0.2s finished\n",
            "[Parallel(n_jobs=-1)]: Using backend LokyBackend with 2 concurrent workers.\n",
            "[Parallel(n_jobs=-1)]: Done  88 tasks      | elapsed:    3.4s\n",
            "[Parallel(n_jobs=-1)]: Done 100 out of 100 | elapsed:    3.8s finished\n",
            "[Parallel(n_jobs=2)]: Using backend ThreadingBackend with 2 concurrent workers.\n",
            "[Parallel(n_jobs=2)]: Done  46 tasks      | elapsed:    0.1s\n",
            "[Parallel(n_jobs=2)]: Done 100 out of 100 | elapsed:    0.2s finished\n",
            "[Parallel(n_jobs=-1)]: Using backend LokyBackend with 2 concurrent workers.\n",
            "[Parallel(n_jobs=-1)]: Done 100 out of 100 | elapsed:    3.5s finished\n",
            "[Parallel(n_jobs=2)]: Using backend ThreadingBackend with 2 concurrent workers.\n",
            "[Parallel(n_jobs=2)]: Done  46 tasks      | elapsed:    0.1s\n",
            "[Parallel(n_jobs=2)]: Done 100 out of 100 | elapsed:    0.1s finished\n",
            "[Parallel(n_jobs=-1)]: Using backend LokyBackend with 2 concurrent workers.\n",
            "[Parallel(n_jobs=-1)]: Done  88 tasks      | elapsed:    3.2s\n",
            "[Parallel(n_jobs=-1)]: Done 100 out of 100 | elapsed:    3.5s finished\n",
            "[Parallel(n_jobs=2)]: Using backend ThreadingBackend with 2 concurrent workers.\n",
            "[Parallel(n_jobs=2)]: Done  46 tasks      | elapsed:    0.1s\n",
            "[Parallel(n_jobs=2)]: Done 100 out of 100 | elapsed:    0.1s finished\n",
            "[Parallel(n_jobs=-1)]: Using backend LokyBackend with 2 concurrent workers.\n",
            "[Parallel(n_jobs=-1)]: Done  10 out of  10 | elapsed:    0.2s finished\n",
            "[Parallel(n_jobs=2)]: Using backend ThreadingBackend with 2 concurrent workers.\n",
            "[Parallel(n_jobs=2)]: Done  10 out of  10 | elapsed:    0.0s finished\n",
            "[Parallel(n_jobs=-1)]: Using backend LokyBackend with 2 concurrent workers.\n",
            "[Parallel(n_jobs=-1)]: Done  10 out of  10 | elapsed:    0.2s finished\n",
            "[Parallel(n_jobs=2)]: Using backend ThreadingBackend with 2 concurrent workers.\n",
            "[Parallel(n_jobs=2)]: Done  10 out of  10 | elapsed:    0.0s finished\n",
            "[Parallel(n_jobs=-1)]: Using backend LokyBackend with 2 concurrent workers.\n",
            "[Parallel(n_jobs=-1)]: Done  10 out of  10 | elapsed:    0.1s finished\n",
            "[Parallel(n_jobs=2)]: Using backend ThreadingBackend with 2 concurrent workers.\n",
            "[Parallel(n_jobs=2)]: Done  10 out of  10 | elapsed:    0.0s finished\n",
            "[Parallel(n_jobs=-1)]: Using backend LokyBackend with 2 concurrent workers.\n",
            "[Parallel(n_jobs=-1)]: Done  10 out of  10 | elapsed:    0.1s finished\n",
            "[Parallel(n_jobs=2)]: Using backend ThreadingBackend with 2 concurrent workers.\n",
            "[Parallel(n_jobs=2)]: Done  10 out of  10 | elapsed:    0.0s finished\n",
            "[Parallel(n_jobs=-1)]: Using backend LokyBackend with 2 concurrent workers.\n",
            "[Parallel(n_jobs=-1)]: Done  10 out of  10 | elapsed:    0.1s finished\n",
            "[Parallel(n_jobs=2)]: Using backend ThreadingBackend with 2 concurrent workers.\n",
            "[Parallel(n_jobs=2)]: Done  10 out of  10 | elapsed:    0.0s finished\n",
            "[Parallel(n_jobs=-1)]: Using backend LokyBackend with 2 concurrent workers.\n",
            "[Parallel(n_jobs=-1)]: Done 300 tasks      | elapsed:    2.9s\n",
            "[Parallel(n_jobs=-1)]: Done 700 out of 700 | elapsed:    6.4s finished\n",
            "[Parallel(n_jobs=2)]: Using backend ThreadingBackend with 2 concurrent workers.\n",
            "[Parallel(n_jobs=2)]: Done  46 tasks      | elapsed:    0.0s\n",
            "[Parallel(n_jobs=2)]: Done 196 tasks      | elapsed:    0.1s\n",
            "[Parallel(n_jobs=2)]: Done 446 tasks      | elapsed:    0.2s\n",
            "[Parallel(n_jobs=2)]: Done 700 out of 700 | elapsed:    0.4s finished\n",
            "[Parallel(n_jobs=-1)]: Using backend LokyBackend with 2 concurrent workers.\n",
            "[Parallel(n_jobs=-1)]: Done 300 tasks      | elapsed:    2.8s\n",
            "[Parallel(n_jobs=-1)]: Done 700 out of 700 | elapsed:    6.4s finished\n",
            "[Parallel(n_jobs=2)]: Using backend ThreadingBackend with 2 concurrent workers.\n",
            "[Parallel(n_jobs=2)]: Done  46 tasks      | elapsed:    0.0s\n",
            "[Parallel(n_jobs=2)]: Done 196 tasks      | elapsed:    0.1s\n",
            "[Parallel(n_jobs=2)]: Done 446 tasks      | elapsed:    0.2s\n",
            "[Parallel(n_jobs=2)]: Done 700 out of 700 | elapsed:    0.4s finished\n",
            "[Parallel(n_jobs=-1)]: Using backend LokyBackend with 2 concurrent workers.\n",
            "[Parallel(n_jobs=-1)]: Done 300 tasks      | elapsed:    2.8s\n",
            "[Parallel(n_jobs=-1)]: Done 700 out of 700 | elapsed:    6.4s finished\n",
            "[Parallel(n_jobs=2)]: Using backend ThreadingBackend with 2 concurrent workers.\n",
            "[Parallel(n_jobs=2)]: Done  46 tasks      | elapsed:    0.0s\n",
            "[Parallel(n_jobs=2)]: Done 196 tasks      | elapsed:    0.1s\n",
            "[Parallel(n_jobs=2)]: Done 446 tasks      | elapsed:    0.3s\n",
            "[Parallel(n_jobs=2)]: Done 700 out of 700 | elapsed:    0.4s finished\n",
            "[Parallel(n_jobs=-1)]: Using backend LokyBackend with 2 concurrent workers.\n",
            "[Parallel(n_jobs=-1)]: Done 300 tasks      | elapsed:    2.9s\n",
            "[Parallel(n_jobs=-1)]: Done 700 out of 700 | elapsed:    6.4s finished\n",
            "[Parallel(n_jobs=2)]: Using backend ThreadingBackend with 2 concurrent workers.\n",
            "[Parallel(n_jobs=2)]: Done  46 tasks      | elapsed:    0.0s\n",
            "[Parallel(n_jobs=2)]: Done 196 tasks      | elapsed:    0.1s\n",
            "[Parallel(n_jobs=2)]: Done 446 tasks      | elapsed:    0.2s\n",
            "[Parallel(n_jobs=2)]: Done 700 out of 700 | elapsed:    0.4s finished\n",
            "[Parallel(n_jobs=-1)]: Using backend LokyBackend with 2 concurrent workers.\n",
            "[Parallel(n_jobs=-1)]: Done 300 tasks      | elapsed:    2.8s\n",
            "[Parallel(n_jobs=-1)]: Done 700 out of 700 | elapsed:    6.4s finished\n",
            "[Parallel(n_jobs=2)]: Using backend ThreadingBackend with 2 concurrent workers.\n",
            "[Parallel(n_jobs=2)]: Done  46 tasks      | elapsed:    0.0s\n",
            "[Parallel(n_jobs=2)]: Done 196 tasks      | elapsed:    0.1s\n",
            "[Parallel(n_jobs=2)]: Done 446 tasks      | elapsed:    0.2s\n",
            "[Parallel(n_jobs=2)]: Done 700 out of 700 | elapsed:    0.4s finished\n",
            "[Parallel(n_jobs=-1)]: Using backend LokyBackend with 2 concurrent workers.\n",
            "[Parallel(n_jobs=-1)]: Done 480 tasks      | elapsed:    3.3s\n",
            "[Parallel(n_jobs=-1)]: Done 500 out of 500 | elapsed:    3.5s finished\n",
            "[Parallel(n_jobs=2)]: Using backend ThreadingBackend with 2 concurrent workers.\n",
            "[Parallel(n_jobs=2)]: Done  46 tasks      | elapsed:    0.0s\n",
            "[Parallel(n_jobs=2)]: Done 196 tasks      | elapsed:    0.1s\n",
            "[Parallel(n_jobs=2)]: Done 446 tasks      | elapsed:    0.2s\n",
            "[Parallel(n_jobs=2)]: Done 500 out of 500 | elapsed:    0.3s finished\n",
            "[Parallel(n_jobs=-1)]: Using backend LokyBackend with 2 concurrent workers.\n",
            "[Parallel(n_jobs=-1)]: Done 480 tasks      | elapsed:    3.3s\n",
            "[Parallel(n_jobs=-1)]: Done 500 out of 500 | elapsed:    3.5s finished\n",
            "[Parallel(n_jobs=2)]: Using backend ThreadingBackend with 2 concurrent workers.\n",
            "[Parallel(n_jobs=2)]: Done  46 tasks      | elapsed:    0.0s\n",
            "[Parallel(n_jobs=2)]: Done 196 tasks      | elapsed:    0.1s\n",
            "[Parallel(n_jobs=2)]: Done 446 tasks      | elapsed:    0.2s\n",
            "[Parallel(n_jobs=2)]: Done 500 out of 500 | elapsed:    0.3s finished\n",
            "[Parallel(n_jobs=-1)]: Using backend LokyBackend with 2 concurrent workers.\n",
            "[Parallel(n_jobs=-1)]: Done 480 tasks      | elapsed:    3.3s\n",
            "[Parallel(n_jobs=-1)]: Done 500 out of 500 | elapsed:    3.5s finished\n",
            "[Parallel(n_jobs=2)]: Using backend ThreadingBackend with 2 concurrent workers.\n",
            "[Parallel(n_jobs=2)]: Done  46 tasks      | elapsed:    0.0s\n",
            "[Parallel(n_jobs=2)]: Done 196 tasks      | elapsed:    0.1s\n",
            "[Parallel(n_jobs=2)]: Done 446 tasks      | elapsed:    0.2s\n",
            "[Parallel(n_jobs=2)]: Done 500 out of 500 | elapsed:    0.3s finished\n",
            "[Parallel(n_jobs=-1)]: Using backend LokyBackend with 2 concurrent workers.\n",
            "[Parallel(n_jobs=-1)]: Done 480 tasks      | elapsed:    3.3s\n",
            "[Parallel(n_jobs=-1)]: Done 500 out of 500 | elapsed:    3.5s finished\n",
            "[Parallel(n_jobs=2)]: Using backend ThreadingBackend with 2 concurrent workers.\n",
            "[Parallel(n_jobs=2)]: Done  46 tasks      | elapsed:    0.0s\n",
            "[Parallel(n_jobs=2)]: Done 196 tasks      | elapsed:    0.1s\n",
            "[Parallel(n_jobs=2)]: Done 446 tasks      | elapsed:    0.2s\n",
            "[Parallel(n_jobs=2)]: Done 500 out of 500 | elapsed:    0.3s finished\n",
            "[Parallel(n_jobs=-1)]: Using backend LokyBackend with 2 concurrent workers.\n",
            "[Parallel(n_jobs=-1)]: Done 480 tasks      | elapsed:    3.3s\n",
            "[Parallel(n_jobs=-1)]: Done 500 out of 500 | elapsed:    3.5s finished\n",
            "[Parallel(n_jobs=2)]: Using backend ThreadingBackend with 2 concurrent workers.\n",
            "[Parallel(n_jobs=2)]: Done  46 tasks      | elapsed:    0.0s\n",
            "[Parallel(n_jobs=2)]: Done 196 tasks      | elapsed:    0.1s\n",
            "[Parallel(n_jobs=2)]: Done 446 tasks      | elapsed:    0.2s\n",
            "[Parallel(n_jobs=2)]: Done 500 out of 500 | elapsed:    0.3s finished\n",
            "[Parallel(n_jobs=-1)]: Using backend LokyBackend with 2 concurrent workers.\n",
            "[Parallel(n_jobs=-1)]: Done  10 out of  10 | elapsed:    0.2s finished\n",
            "[Parallel(n_jobs=2)]: Using backend ThreadingBackend with 2 concurrent workers.\n",
            "[Parallel(n_jobs=2)]: Done  10 out of  10 | elapsed:    0.0s finished\n",
            "[Parallel(n_jobs=-1)]: Using backend LokyBackend with 2 concurrent workers.\n",
            "[Parallel(n_jobs=-1)]: Done  10 out of  10 | elapsed:    0.2s finished\n",
            "[Parallel(n_jobs=2)]: Using backend ThreadingBackend with 2 concurrent workers.\n",
            "[Parallel(n_jobs=2)]: Done  10 out of  10 | elapsed:    0.0s finished\n",
            "[Parallel(n_jobs=-1)]: Using backend LokyBackend with 2 concurrent workers.\n",
            "[Parallel(n_jobs=-1)]: Done  10 out of  10 | elapsed:    0.2s finished\n",
            "[Parallel(n_jobs=2)]: Using backend ThreadingBackend with 2 concurrent workers.\n",
            "[Parallel(n_jobs=2)]: Done  10 out of  10 | elapsed:    0.0s finished\n",
            "[Parallel(n_jobs=-1)]: Using backend LokyBackend with 2 concurrent workers.\n",
            "[Parallel(n_jobs=-1)]: Done  10 out of  10 | elapsed:    0.2s finished\n",
            "[Parallel(n_jobs=2)]: Using backend ThreadingBackend with 2 concurrent workers.\n",
            "[Parallel(n_jobs=2)]: Done  10 out of  10 | elapsed:    0.0s finished\n",
            "[Parallel(n_jobs=-1)]: Using backend LokyBackend with 2 concurrent workers.\n",
            "[Parallel(n_jobs=-1)]: Done  10 out of  10 | elapsed:    0.2s finished\n",
            "[Parallel(n_jobs=2)]: Using backend ThreadingBackend with 2 concurrent workers.\n",
            "[Parallel(n_jobs=2)]: Done  10 out of  10 | elapsed:    0.0s finished\n",
            "[Parallel(n_jobs=-1)]: Using backend LokyBackend with 2 concurrent workers.\n",
            "[Parallel(n_jobs=-1)]: Done  10 out of  10 | elapsed:    0.2s finished\n",
            "[Parallel(n_jobs=2)]: Using backend ThreadingBackend with 2 concurrent workers.\n",
            "[Parallel(n_jobs=2)]: Done  10 out of  10 | elapsed:    0.0s finished\n",
            "[Parallel(n_jobs=-1)]: Using backend LokyBackend with 2 concurrent workers.\n",
            "[Parallel(n_jobs=-1)]: Done  10 out of  10 | elapsed:    0.2s finished\n",
            "[Parallel(n_jobs=2)]: Using backend ThreadingBackend with 2 concurrent workers.\n",
            "[Parallel(n_jobs=2)]: Done  10 out of  10 | elapsed:    0.0s finished\n",
            "[Parallel(n_jobs=-1)]: Using backend LokyBackend with 2 concurrent workers.\n",
            "[Parallel(n_jobs=-1)]: Done  10 out of  10 | elapsed:    0.2s finished\n",
            "[Parallel(n_jobs=2)]: Using backend ThreadingBackend with 2 concurrent workers.\n",
            "[Parallel(n_jobs=2)]: Done  10 out of  10 | elapsed:    0.0s finished\n",
            "[Parallel(n_jobs=-1)]: Using backend LokyBackend with 2 concurrent workers.\n",
            "[Parallel(n_jobs=-1)]: Done  10 out of  10 | elapsed:    0.2s finished\n",
            "[Parallel(n_jobs=2)]: Using backend ThreadingBackend with 2 concurrent workers.\n",
            "[Parallel(n_jobs=2)]: Done  10 out of  10 | elapsed:    0.0s finished\n",
            "[Parallel(n_jobs=-1)]: Using backend LokyBackend with 2 concurrent workers.\n",
            "[Parallel(n_jobs=-1)]: Done  10 out of  10 | elapsed:    0.2s finished\n",
            "[Parallel(n_jobs=2)]: Using backend ThreadingBackend with 2 concurrent workers.\n",
            "[Parallel(n_jobs=2)]: Done  10 out of  10 | elapsed:    0.0s finished\n",
            "[Parallel(n_jobs=-1)]: Using backend LokyBackend with 2 concurrent workers.\n",
            "[Parallel(n_jobs=-1)]: Done 300 tasks      | elapsed:    2.8s\n",
            "[Parallel(n_jobs=-1)]: Done 700 out of 700 | elapsed:    6.5s finished\n",
            "[Parallel(n_jobs=2)]: Using backend ThreadingBackend with 2 concurrent workers.\n",
            "[Parallel(n_jobs=2)]: Done  46 tasks      | elapsed:    0.0s\n",
            "[Parallel(n_jobs=2)]: Done 196 tasks      | elapsed:    0.1s\n",
            "[Parallel(n_jobs=2)]: Done 446 tasks      | elapsed:    0.2s\n",
            "[Parallel(n_jobs=2)]: Done 700 out of 700 | elapsed:    0.4s finished\n",
            "[Parallel(n_jobs=-1)]: Using backend LokyBackend with 2 concurrent workers.\n",
            "[Parallel(n_jobs=-1)]: Done 300 tasks      | elapsed:    2.8s\n",
            "[Parallel(n_jobs=-1)]: Done 700 out of 700 | elapsed:    6.5s finished\n",
            "[Parallel(n_jobs=2)]: Using backend ThreadingBackend with 2 concurrent workers.\n",
            "[Parallel(n_jobs=2)]: Done  46 tasks      | elapsed:    0.0s\n",
            "[Parallel(n_jobs=2)]: Done 196 tasks      | elapsed:    0.1s\n",
            "[Parallel(n_jobs=2)]: Done 446 tasks      | elapsed:    0.2s\n",
            "[Parallel(n_jobs=2)]: Done 700 out of 700 | elapsed:    0.4s finished\n",
            "[Parallel(n_jobs=-1)]: Using backend LokyBackend with 2 concurrent workers.\n",
            "[Parallel(n_jobs=-1)]: Done 300 tasks      | elapsed:    2.8s\n",
            "[Parallel(n_jobs=-1)]: Done 700 out of 700 | elapsed:    6.4s finished\n",
            "[Parallel(n_jobs=2)]: Using backend ThreadingBackend with 2 concurrent workers.\n",
            "[Parallel(n_jobs=2)]: Done  46 tasks      | elapsed:    0.0s\n",
            "[Parallel(n_jobs=2)]: Done 196 tasks      | elapsed:    0.1s\n",
            "[Parallel(n_jobs=2)]: Done 446 tasks      | elapsed:    0.3s\n",
            "[Parallel(n_jobs=2)]: Done 700 out of 700 | elapsed:    0.4s finished\n",
            "[Parallel(n_jobs=-1)]: Using backend LokyBackend with 2 concurrent workers.\n",
            "[Parallel(n_jobs=-1)]: Done 300 tasks      | elapsed:    2.9s\n",
            "[Parallel(n_jobs=-1)]: Done 700 out of 700 | elapsed:    6.4s finished\n",
            "[Parallel(n_jobs=2)]: Using backend ThreadingBackend with 2 concurrent workers.\n",
            "[Parallel(n_jobs=2)]: Done  46 tasks      | elapsed:    0.0s\n",
            "[Parallel(n_jobs=2)]: Done 196 tasks      | elapsed:    0.1s\n",
            "[Parallel(n_jobs=2)]: Done 446 tasks      | elapsed:    0.2s\n",
            "[Parallel(n_jobs=2)]: Done 700 out of 700 | elapsed:    0.4s finished\n",
            "[Parallel(n_jobs=-1)]: Using backend LokyBackend with 2 concurrent workers.\n",
            "[Parallel(n_jobs=-1)]: Done 300 tasks      | elapsed:    2.8s\n",
            "[Parallel(n_jobs=-1)]: Done 700 out of 700 | elapsed:    6.4s finished\n",
            "[Parallel(n_jobs=2)]: Using backend ThreadingBackend with 2 concurrent workers.\n",
            "[Parallel(n_jobs=2)]: Done  46 tasks      | elapsed:    0.0s\n",
            "[Parallel(n_jobs=2)]: Done 196 tasks      | elapsed:    0.1s\n",
            "[Parallel(n_jobs=2)]: Done 446 tasks      | elapsed:    0.2s\n",
            "[Parallel(n_jobs=2)]: Done 700 out of 700 | elapsed:    0.4s finished\n",
            "[Parallel(n_jobs=-1)]: Using backend ThreadingBackend with 2 concurrent workers.\n",
            "[Parallel(n_jobs=-1)]: Done  10 out of  10 | elapsed:    0.1s finished\n"
          ],
          "name": "stderr"
        },
        {
          "output_type": "execute_result",
          "data": {
            "text/plain": [
              "RandomizedSearchCV(cv=None, error_score=nan,\n",
              "                   estimator=RandomForestClassifier(bootstrap=True,\n",
              "                                                    ccp_alpha=0.0,\n",
              "                                                    class_weight=None,\n",
              "                                                    criterion='gini',\n",
              "                                                    max_depth=None,\n",
              "                                                    max_features='auto',\n",
              "                                                    max_leaf_nodes=None,\n",
              "                                                    max_samples=None,\n",
              "                                                    min_impurity_decrease=0.0,\n",
              "                                                    min_impurity_split=None,\n",
              "                                                    min_samples_leaf=1,\n",
              "                                                    min_samples_split=2,\n",
              "                                                    min_weight_fraction_leaf=0.0,\n",
              "                                                    n_estimators=100, n_j...\n",
              "                                        'max_features': <scipy.stats._distn_infrastructure.rv_frozen object at 0x7f074cfa6710>,\n",
              "                                        'min_samples_leaf': <scipy.stats._distn_infrastructure.rv_frozen object at 0x7f074cfa69e8>,\n",
              "                                        'min_samples_split': <scipy.stats._distn_infrastructure.rv_frozen object at 0x7f074cfa6860>,\n",
              "                                        'n_estimators': [10, 100, 500, 700]},\n",
              "                   pre_dispatch='2*n_jobs', random_state=None, refit=True,\n",
              "                   return_train_score=False, scoring=None, verbose=0)"
            ]
          },
          "metadata": {
            "tags": []
          },
          "execution_count": 57
        }
      ]
    },
    {
      "cell_type": "code",
      "metadata": {
        "id": "Snf3J4Yfk6Xs",
        "colab_type": "code",
        "colab": {}
      },
      "source": [
        "param_dist = {\"n_estimators\":[100,200,300,500,700,1000],\n",
        "              \"max_features\": ['auto'],\n",
        "              \"bootstrap\": [True, False],\n",
        "              'class_weight':[None,'balanced'], \n",
        "                'criterion':['entropy','gini'],\n",
        "                'max_depth':[None,5,10,15,20,30,50,70],\n",
        "                'min_samples_leaf':[1,2,5,10,15,20], \n",
        "                'min_samples_split':[2,5,10,15,20]\n",
        "                  }"
      ],
      "execution_count": 59,
      "outputs": []
    },
    {
      "cell_type": "code",
      "metadata": {
        "id": "9FnG3gJ6k6VC",
        "colab_type": "code",
        "colab": {}
      },
      "source": [
        "n_iter_search = 10"
      ],
      "execution_count": 60,
      "outputs": []
    },
    {
      "cell_type": "code",
      "metadata": {
        "id": "CYBSUaKak6Sa",
        "colab_type": "code",
        "colab": {
          "base_uri": "https://localhost:8080/",
          "height": 1000
        },
        "outputId": "808629b9-a7a0-4457-f934-fd6f2648296e"
      },
      "source": [
        "random_search = RandomizedSearchCV(clf, param_distributions=param_dist,\n",
        "                                   n_iter=n_iter_search,scoring='roc_auc',cv=5)\n",
        "random_search.fit(X_train, y_train)"
      ],
      "execution_count": 61,
      "outputs": [
        {
          "output_type": "stream",
          "text": [
            "[Parallel(n_jobs=-1)]: Using backend LokyBackend with 2 concurrent workers.\n",
            "[Parallel(n_jobs=-1)]: Done  46 tasks      | elapsed:    9.5s\n",
            "[Parallel(n_jobs=-1)]: Done 196 tasks      | elapsed:   37.9s\n",
            "[Parallel(n_jobs=-1)]: Done 446 tasks      | elapsed:  1.4min\n",
            "[Parallel(n_jobs=-1)]: Done 700 out of 700 | elapsed:  2.2min finished\n",
            "[Parallel(n_jobs=2)]: Using backend ThreadingBackend with 2 concurrent workers.\n",
            "[Parallel(n_jobs=2)]: Done  46 tasks      | elapsed:    0.1s\n",
            "[Parallel(n_jobs=2)]: Done 196 tasks      | elapsed:    0.3s\n",
            "[Parallel(n_jobs=2)]: Done 446 tasks      | elapsed:    0.8s\n",
            "[Parallel(n_jobs=2)]: Done 700 out of 700 | elapsed:    1.2s finished\n",
            "[Parallel(n_jobs=-1)]: Using backend LokyBackend with 2 concurrent workers.\n",
            "[Parallel(n_jobs=-1)]: Done  46 tasks      | elapsed:    8.8s\n",
            "[Parallel(n_jobs=-1)]: Done 196 tasks      | elapsed:   37.2s\n",
            "[Parallel(n_jobs=-1)]: Done 446 tasks      | elapsed:  1.4min\n",
            "[Parallel(n_jobs=-1)]: Done 700 out of 700 | elapsed:  2.2min finished\n",
            "[Parallel(n_jobs=2)]: Using backend ThreadingBackend with 2 concurrent workers.\n",
            "[Parallel(n_jobs=2)]: Done  46 tasks      | elapsed:    0.1s\n",
            "[Parallel(n_jobs=2)]: Done 196 tasks      | elapsed:    0.4s\n",
            "[Parallel(n_jobs=2)]: Done 446 tasks      | elapsed:    0.8s\n",
            "[Parallel(n_jobs=2)]: Done 700 out of 700 | elapsed:    1.2s finished\n",
            "[Parallel(n_jobs=-1)]: Using backend LokyBackend with 2 concurrent workers.\n",
            "[Parallel(n_jobs=-1)]: Done  46 tasks      | elapsed:    8.9s\n",
            "[Parallel(n_jobs=-1)]: Done 196 tasks      | elapsed:   37.4s\n",
            "[Parallel(n_jobs=-1)]: Done 446 tasks      | elapsed:  1.4min\n",
            "[Parallel(n_jobs=-1)]: Done 700 out of 700 | elapsed:  2.2min finished\n",
            "[Parallel(n_jobs=2)]: Using backend ThreadingBackend with 2 concurrent workers.\n",
            "[Parallel(n_jobs=2)]: Done  46 tasks      | elapsed:    0.1s\n",
            "[Parallel(n_jobs=2)]: Done 196 tasks      | elapsed:    0.4s\n",
            "[Parallel(n_jobs=2)]: Done 446 tasks      | elapsed:    0.8s\n",
            "[Parallel(n_jobs=2)]: Done 700 out of 700 | elapsed:    1.2s finished\n",
            "[Parallel(n_jobs=-1)]: Using backend LokyBackend with 2 concurrent workers.\n",
            "[Parallel(n_jobs=-1)]: Done  46 tasks      | elapsed:    9.0s\n",
            "[Parallel(n_jobs=-1)]: Done 196 tasks      | elapsed:   37.3s\n",
            "[Parallel(n_jobs=-1)]: Done 446 tasks      | elapsed:  1.4min\n",
            "[Parallel(n_jobs=-1)]: Done 700 out of 700 | elapsed:  2.2min finished\n",
            "[Parallel(n_jobs=2)]: Using backend ThreadingBackend with 2 concurrent workers.\n",
            "[Parallel(n_jobs=2)]: Done  46 tasks      | elapsed:    0.1s\n",
            "[Parallel(n_jobs=2)]: Done 196 tasks      | elapsed:    0.4s\n",
            "[Parallel(n_jobs=2)]: Done 446 tasks      | elapsed:    0.8s\n",
            "[Parallel(n_jobs=2)]: Done 700 out of 700 | elapsed:    1.2s finished\n",
            "[Parallel(n_jobs=-1)]: Using backend LokyBackend with 2 concurrent workers.\n",
            "[Parallel(n_jobs=-1)]: Done  46 tasks      | elapsed:    8.9s\n",
            "[Parallel(n_jobs=-1)]: Done 196 tasks      | elapsed:   37.4s\n",
            "[Parallel(n_jobs=-1)]: Done 446 tasks      | elapsed:  1.4min\n",
            "[Parallel(n_jobs=-1)]: Done 700 out of 700 | elapsed:  2.2min finished\n",
            "[Parallel(n_jobs=2)]: Using backend ThreadingBackend with 2 concurrent workers.\n",
            "[Parallel(n_jobs=2)]: Done  46 tasks      | elapsed:    0.1s\n",
            "[Parallel(n_jobs=2)]: Done 196 tasks      | elapsed:    0.4s\n",
            "[Parallel(n_jobs=2)]: Done 446 tasks      | elapsed:    0.8s\n",
            "[Parallel(n_jobs=2)]: Done 700 out of 700 | elapsed:    1.3s finished\n",
            "[Parallel(n_jobs=-1)]: Using backend LokyBackend with 2 concurrent workers.\n",
            "[Parallel(n_jobs=-1)]: Done  46 tasks      | elapsed:    3.6s\n",
            "[Parallel(n_jobs=-1)]: Done 196 tasks      | elapsed:   15.3s\n",
            "[Parallel(n_jobs=-1)]: Done 446 tasks      | elapsed:   34.8s\n",
            "[Parallel(n_jobs=-1)]: Done 700 out of 700 | elapsed:   54.7s finished\n",
            "[Parallel(n_jobs=2)]: Using backend ThreadingBackend with 2 concurrent workers.\n",
            "[Parallel(n_jobs=2)]: Done  46 tasks      | elapsed:    0.1s\n",
            "[Parallel(n_jobs=2)]: Done 196 tasks      | elapsed:    0.2s\n",
            "[Parallel(n_jobs=2)]: Done 446 tasks      | elapsed:    0.5s\n",
            "[Parallel(n_jobs=2)]: Done 700 out of 700 | elapsed:    0.8s finished\n",
            "[Parallel(n_jobs=-1)]: Using backend LokyBackend with 2 concurrent workers.\n",
            "[Parallel(n_jobs=-1)]: Done  46 tasks      | elapsed:    3.7s\n",
            "[Parallel(n_jobs=-1)]: Done 196 tasks      | elapsed:   15.4s\n",
            "[Parallel(n_jobs=-1)]: Done 446 tasks      | elapsed:   34.9s\n",
            "[Parallel(n_jobs=-1)]: Done 700 out of 700 | elapsed:   54.6s finished\n",
            "[Parallel(n_jobs=2)]: Using backend ThreadingBackend with 2 concurrent workers.\n",
            "[Parallel(n_jobs=2)]: Done  46 tasks      | elapsed:    0.1s\n",
            "[Parallel(n_jobs=2)]: Done 196 tasks      | elapsed:    0.2s\n",
            "[Parallel(n_jobs=2)]: Done 446 tasks      | elapsed:    0.5s\n",
            "[Parallel(n_jobs=2)]: Done 700 out of 700 | elapsed:    0.7s finished\n",
            "[Parallel(n_jobs=-1)]: Using backend LokyBackend with 2 concurrent workers.\n",
            "[Parallel(n_jobs=-1)]: Done  46 tasks      | elapsed:    3.8s\n",
            "[Parallel(n_jobs=-1)]: Done 196 tasks      | elapsed:   15.8s\n",
            "[Parallel(n_jobs=-1)]: Done 446 tasks      | elapsed:   35.4s\n",
            "[Parallel(n_jobs=-1)]: Done 700 out of 700 | elapsed:   55.2s finished\n",
            "[Parallel(n_jobs=2)]: Using backend ThreadingBackend with 2 concurrent workers.\n",
            "[Parallel(n_jobs=2)]: Done  46 tasks      | elapsed:    0.1s\n",
            "[Parallel(n_jobs=2)]: Done 196 tasks      | elapsed:    0.2s\n",
            "[Parallel(n_jobs=2)]: Done 446 tasks      | elapsed:    0.5s\n",
            "[Parallel(n_jobs=2)]: Done 700 out of 700 | elapsed:    0.8s finished\n",
            "[Parallel(n_jobs=-1)]: Using backend LokyBackend with 2 concurrent workers.\n",
            "[Parallel(n_jobs=-1)]: Done  46 tasks      | elapsed:    3.7s\n",
            "[Parallel(n_jobs=-1)]: Done 196 tasks      | elapsed:   15.4s\n",
            "[Parallel(n_jobs=-1)]: Done 446 tasks      | elapsed:   35.1s\n",
            "[Parallel(n_jobs=-1)]: Done 700 out of 700 | elapsed:   54.9s finished\n",
            "[Parallel(n_jobs=2)]: Using backend ThreadingBackend with 2 concurrent workers.\n",
            "[Parallel(n_jobs=2)]: Done  46 tasks      | elapsed:    0.1s\n",
            "[Parallel(n_jobs=2)]: Done 196 tasks      | elapsed:    0.2s\n",
            "[Parallel(n_jobs=2)]: Done 446 tasks      | elapsed:    0.5s\n",
            "[Parallel(n_jobs=2)]: Done 700 out of 700 | elapsed:    0.8s finished\n",
            "[Parallel(n_jobs=-1)]: Using backend LokyBackend with 2 concurrent workers.\n",
            "[Parallel(n_jobs=-1)]: Done  46 tasks      | elapsed:    3.7s\n",
            "[Parallel(n_jobs=-1)]: Done 196 tasks      | elapsed:   15.3s\n",
            "[Parallel(n_jobs=-1)]: Done 446 tasks      | elapsed:   34.7s\n",
            "[Parallel(n_jobs=-1)]: Done 700 out of 700 | elapsed:   54.5s finished\n",
            "[Parallel(n_jobs=2)]: Using backend ThreadingBackend with 2 concurrent workers.\n",
            "[Parallel(n_jobs=2)]: Done  46 tasks      | elapsed:    0.1s\n",
            "[Parallel(n_jobs=2)]: Done 196 tasks      | elapsed:    0.2s\n",
            "[Parallel(n_jobs=2)]: Done 446 tasks      | elapsed:    0.5s\n",
            "[Parallel(n_jobs=2)]: Done 700 out of 700 | elapsed:    0.8s finished\n",
            "[Parallel(n_jobs=-1)]: Using backend LokyBackend with 2 concurrent workers.\n",
            "[Parallel(n_jobs=-1)]: Done  88 tasks      | elapsed:    4.5s\n",
            "[Parallel(n_jobs=-1)]: Done 100 out of 100 | elapsed:    5.1s finished\n",
            "[Parallel(n_jobs=2)]: Using backend ThreadingBackend with 2 concurrent workers.\n",
            "[Parallel(n_jobs=2)]: Done  46 tasks      | elapsed:    0.0s\n",
            "[Parallel(n_jobs=2)]: Done 100 out of 100 | elapsed:    0.1s finished\n",
            "[Parallel(n_jobs=-1)]: Using backend LokyBackend with 2 concurrent workers.\n",
            "[Parallel(n_jobs=-1)]: Done  88 tasks      | elapsed:    4.5s\n",
            "[Parallel(n_jobs=-1)]: Done 100 out of 100 | elapsed:    5.0s finished\n",
            "[Parallel(n_jobs=2)]: Using backend ThreadingBackend with 2 concurrent workers.\n",
            "[Parallel(n_jobs=2)]: Done  46 tasks      | elapsed:    0.1s\n",
            "[Parallel(n_jobs=2)]: Done 100 out of 100 | elapsed:    0.1s finished\n",
            "[Parallel(n_jobs=-1)]: Using backend LokyBackend with 2 concurrent workers.\n",
            "[Parallel(n_jobs=-1)]: Done  88 tasks      | elapsed:    4.5s\n",
            "[Parallel(n_jobs=-1)]: Done 100 out of 100 | elapsed:    5.0s finished\n",
            "[Parallel(n_jobs=2)]: Using backend ThreadingBackend with 2 concurrent workers.\n",
            "[Parallel(n_jobs=2)]: Done  46 tasks      | elapsed:    0.0s\n",
            "[Parallel(n_jobs=2)]: Done 100 out of 100 | elapsed:    0.1s finished\n",
            "[Parallel(n_jobs=-1)]: Using backend LokyBackend with 2 concurrent workers.\n",
            "[Parallel(n_jobs=-1)]: Done  88 tasks      | elapsed:    4.6s\n",
            "[Parallel(n_jobs=-1)]: Done 100 out of 100 | elapsed:    5.1s finished\n",
            "[Parallel(n_jobs=2)]: Using backend ThreadingBackend with 2 concurrent workers.\n",
            "[Parallel(n_jobs=2)]: Done  46 tasks      | elapsed:    0.0s\n",
            "[Parallel(n_jobs=2)]: Done 100 out of 100 | elapsed:    0.1s finished\n",
            "[Parallel(n_jobs=-1)]: Using backend LokyBackend with 2 concurrent workers.\n",
            "[Parallel(n_jobs=-1)]: Done  88 tasks      | elapsed:    4.6s\n",
            "[Parallel(n_jobs=-1)]: Done 100 out of 100 | elapsed:    5.1s finished\n",
            "[Parallel(n_jobs=2)]: Using backend ThreadingBackend with 2 concurrent workers.\n",
            "[Parallel(n_jobs=2)]: Done  46 tasks      | elapsed:    0.1s\n",
            "[Parallel(n_jobs=2)]: Done 100 out of 100 | elapsed:    0.1s finished\n",
            "[Parallel(n_jobs=-1)]: Using backend LokyBackend with 2 concurrent workers.\n",
            "[Parallel(n_jobs=-1)]: Done  46 tasks      | elapsed:    6.4s\n",
            "[Parallel(n_jobs=-1)]: Done 196 tasks      | elapsed:   26.3s\n",
            "[Parallel(n_jobs=-1)]: Done 200 out of 200 | elapsed:   26.7s finished\n",
            "[Parallel(n_jobs=2)]: Using backend ThreadingBackend with 2 concurrent workers.\n",
            "[Parallel(n_jobs=2)]: Done  46 tasks      | elapsed:    0.1s\n",
            "[Parallel(n_jobs=2)]: Done 196 tasks      | elapsed:    0.3s\n",
            "[Parallel(n_jobs=2)]: Done 200 out of 200 | elapsed:    0.3s finished\n",
            "[Parallel(n_jobs=-1)]: Using backend LokyBackend with 2 concurrent workers.\n",
            "[Parallel(n_jobs=-1)]: Done  46 tasks      | elapsed:    6.1s\n",
            "[Parallel(n_jobs=-1)]: Done 196 tasks      | elapsed:   26.1s\n",
            "[Parallel(n_jobs=-1)]: Done 200 out of 200 | elapsed:   26.7s finished\n",
            "[Parallel(n_jobs=2)]: Using backend ThreadingBackend with 2 concurrent workers.\n",
            "[Parallel(n_jobs=2)]: Done  46 tasks      | elapsed:    0.1s\n",
            "[Parallel(n_jobs=2)]: Done 196 tasks      | elapsed:    0.3s\n",
            "[Parallel(n_jobs=2)]: Done 200 out of 200 | elapsed:    0.3s finished\n",
            "[Parallel(n_jobs=-1)]: Using backend LokyBackend with 2 concurrent workers.\n",
            "[Parallel(n_jobs=-1)]: Done  46 tasks      | elapsed:    6.2s\n",
            "[Parallel(n_jobs=-1)]: Done 196 tasks      | elapsed:   26.1s\n",
            "[Parallel(n_jobs=-1)]: Done 200 out of 200 | elapsed:   26.6s finished\n",
            "[Parallel(n_jobs=2)]: Using backend ThreadingBackend with 2 concurrent workers.\n",
            "[Parallel(n_jobs=2)]: Done  46 tasks      | elapsed:    0.1s\n",
            "[Parallel(n_jobs=2)]: Done 196 tasks      | elapsed:    0.3s\n",
            "[Parallel(n_jobs=2)]: Done 200 out of 200 | elapsed:    0.3s finished\n",
            "[Parallel(n_jobs=-1)]: Using backend LokyBackend with 2 concurrent workers.\n",
            "[Parallel(n_jobs=-1)]: Done  46 tasks      | elapsed:    6.2s\n",
            "[Parallel(n_jobs=-1)]: Done 196 tasks      | elapsed:   26.0s\n",
            "[Parallel(n_jobs=-1)]: Done 200 out of 200 | elapsed:   26.4s finished\n",
            "[Parallel(n_jobs=2)]: Using backend ThreadingBackend with 2 concurrent workers.\n",
            "[Parallel(n_jobs=2)]: Done  46 tasks      | elapsed:    0.1s\n",
            "[Parallel(n_jobs=2)]: Done 196 tasks      | elapsed:    0.3s\n",
            "[Parallel(n_jobs=2)]: Done 200 out of 200 | elapsed:    0.3s finished\n",
            "[Parallel(n_jobs=-1)]: Using backend LokyBackend with 2 concurrent workers.\n",
            "[Parallel(n_jobs=-1)]: Done  46 tasks      | elapsed:    6.2s\n",
            "[Parallel(n_jobs=-1)]: Done 196 tasks      | elapsed:   26.0s\n",
            "[Parallel(n_jobs=-1)]: Done 200 out of 200 | elapsed:   26.4s finished\n",
            "[Parallel(n_jobs=2)]: Using backend ThreadingBackend with 2 concurrent workers.\n",
            "[Parallel(n_jobs=2)]: Done  46 tasks      | elapsed:    0.1s\n",
            "[Parallel(n_jobs=2)]: Done 196 tasks      | elapsed:    0.3s\n",
            "[Parallel(n_jobs=2)]: Done 200 out of 200 | elapsed:    0.3s finished\n",
            "[Parallel(n_jobs=-1)]: Using backend LokyBackend with 2 concurrent workers.\n",
            "[Parallel(n_jobs=-1)]: Done  46 tasks      | elapsed:    4.5s\n",
            "[Parallel(n_jobs=-1)]: Done 196 tasks      | elapsed:   19.0s\n",
            "[Parallel(n_jobs=-1)]: Done 446 tasks      | elapsed:   43.1s\n",
            "[Parallel(n_jobs=-1)]: Done 700 out of 700 | elapsed:  1.1min finished\n",
            "[Parallel(n_jobs=2)]: Using backend ThreadingBackend with 2 concurrent workers.\n",
            "[Parallel(n_jobs=2)]: Done  46 tasks      | elapsed:    0.1s\n",
            "[Parallel(n_jobs=2)]: Done 196 tasks      | elapsed:    0.3s\n",
            "[Parallel(n_jobs=2)]: Done 446 tasks      | elapsed:    0.6s\n",
            "[Parallel(n_jobs=2)]: Done 700 out of 700 | elapsed:    0.9s finished\n",
            "[Parallel(n_jobs=-1)]: Using backend LokyBackend with 2 concurrent workers.\n",
            "[Parallel(n_jobs=-1)]: Done  46 tasks      | elapsed:    4.5s\n",
            "[Parallel(n_jobs=-1)]: Done 196 tasks      | elapsed:   19.1s\n",
            "[Parallel(n_jobs=-1)]: Done 446 tasks      | elapsed:   42.9s\n",
            "[Parallel(n_jobs=-1)]: Done 700 out of 700 | elapsed:  1.1min finished\n",
            "[Parallel(n_jobs=2)]: Using backend ThreadingBackend with 2 concurrent workers.\n",
            "[Parallel(n_jobs=2)]: Done  46 tasks      | elapsed:    0.1s\n",
            "[Parallel(n_jobs=2)]: Done 196 tasks      | elapsed:    0.3s\n",
            "[Parallel(n_jobs=2)]: Done 446 tasks      | elapsed:    0.6s\n",
            "[Parallel(n_jobs=2)]: Done 700 out of 700 | elapsed:    0.9s finished\n",
            "[Parallel(n_jobs=-1)]: Using backend LokyBackend with 2 concurrent workers.\n",
            "[Parallel(n_jobs=-1)]: Done  46 tasks      | elapsed:    4.5s\n",
            "[Parallel(n_jobs=-1)]: Done 196 tasks      | elapsed:   19.1s\n",
            "[Parallel(n_jobs=-1)]: Done 446 tasks      | elapsed:   43.4s\n",
            "[Parallel(n_jobs=-1)]: Done 700 out of 700 | elapsed:  1.1min finished\n",
            "[Parallel(n_jobs=2)]: Using backend ThreadingBackend with 2 concurrent workers.\n",
            "[Parallel(n_jobs=2)]: Done  46 tasks      | elapsed:    0.1s\n",
            "[Parallel(n_jobs=2)]: Done 196 tasks      | elapsed:    0.3s\n",
            "[Parallel(n_jobs=2)]: Done 446 tasks      | elapsed:    0.6s\n",
            "[Parallel(n_jobs=2)]: Done 700 out of 700 | elapsed:    0.9s finished\n",
            "[Parallel(n_jobs=-1)]: Using backend LokyBackend with 2 concurrent workers.\n",
            "[Parallel(n_jobs=-1)]: Done  46 tasks      | elapsed:    4.6s\n",
            "[Parallel(n_jobs=-1)]: Done 196 tasks      | elapsed:   19.0s\n",
            "[Parallel(n_jobs=-1)]: Done 446 tasks      | elapsed:   43.1s\n",
            "[Parallel(n_jobs=-1)]: Done 700 out of 700 | elapsed:  1.1min finished\n",
            "[Parallel(n_jobs=2)]: Using backend ThreadingBackend with 2 concurrent workers.\n",
            "[Parallel(n_jobs=2)]: Done  46 tasks      | elapsed:    0.1s\n",
            "[Parallel(n_jobs=2)]: Done 196 tasks      | elapsed:    0.3s\n",
            "[Parallel(n_jobs=2)]: Done 446 tasks      | elapsed:    0.6s\n",
            "[Parallel(n_jobs=2)]: Done 700 out of 700 | elapsed:    0.9s finished\n",
            "[Parallel(n_jobs=-1)]: Using backend LokyBackend with 2 concurrent workers.\n",
            "[Parallel(n_jobs=-1)]: Done  46 tasks      | elapsed:    4.5s\n",
            "[Parallel(n_jobs=-1)]: Done 196 tasks      | elapsed:   19.0s\n",
            "[Parallel(n_jobs=-1)]: Done 446 tasks      | elapsed:   42.9s\n",
            "[Parallel(n_jobs=-1)]: Done 700 out of 700 | elapsed:  1.1min finished\n",
            "[Parallel(n_jobs=2)]: Using backend ThreadingBackend with 2 concurrent workers.\n",
            "[Parallel(n_jobs=2)]: Done  46 tasks      | elapsed:    0.1s\n",
            "[Parallel(n_jobs=2)]: Done 196 tasks      | elapsed:    0.3s\n",
            "[Parallel(n_jobs=2)]: Done 446 tasks      | elapsed:    0.6s\n",
            "[Parallel(n_jobs=2)]: Done 700 out of 700 | elapsed:    0.9s finished\n",
            "[Parallel(n_jobs=-1)]: Using backend LokyBackend with 2 concurrent workers.\n",
            "[Parallel(n_jobs=-1)]: Done  46 tasks      | elapsed:    7.8s\n",
            "[Parallel(n_jobs=-1)]: Done 196 tasks      | elapsed:   32.3s\n",
            "[Parallel(n_jobs=-1)]: Done 200 out of 200 | elapsed:   32.9s finished\n",
            "[Parallel(n_jobs=2)]: Using backend ThreadingBackend with 2 concurrent workers.\n",
            "[Parallel(n_jobs=2)]: Done  46 tasks      | elapsed:    0.1s\n",
            "[Parallel(n_jobs=2)]: Done 196 tasks      | elapsed:    0.5s\n",
            "[Parallel(n_jobs=2)]: Done 200 out of 200 | elapsed:    0.5s finished\n",
            "[Parallel(n_jobs=-1)]: Using backend LokyBackend with 2 concurrent workers.\n",
            "[Parallel(n_jobs=-1)]: Done  46 tasks      | elapsed:    7.9s\n",
            "[Parallel(n_jobs=-1)]: Done 196 tasks      | elapsed:   33.1s\n",
            "[Parallel(n_jobs=-1)]: Done 200 out of 200 | elapsed:   33.7s finished\n",
            "[Parallel(n_jobs=2)]: Using backend ThreadingBackend with 2 concurrent workers.\n",
            "[Parallel(n_jobs=2)]: Done  46 tasks      | elapsed:    0.1s\n",
            "[Parallel(n_jobs=2)]: Done 196 tasks      | elapsed:    0.5s\n",
            "[Parallel(n_jobs=2)]: Done 200 out of 200 | elapsed:    0.5s finished\n",
            "[Parallel(n_jobs=-1)]: Using backend LokyBackend with 2 concurrent workers.\n",
            "[Parallel(n_jobs=-1)]: Done  46 tasks      | elapsed:    7.9s\n",
            "[Parallel(n_jobs=-1)]: Done 196 tasks      | elapsed:   32.7s\n",
            "[Parallel(n_jobs=-1)]: Done 200 out of 200 | elapsed:   33.4s finished\n",
            "[Parallel(n_jobs=2)]: Using backend ThreadingBackend with 2 concurrent workers.\n",
            "[Parallel(n_jobs=2)]: Done  46 tasks      | elapsed:    0.1s\n",
            "[Parallel(n_jobs=2)]: Done 196 tasks      | elapsed:    0.5s\n",
            "[Parallel(n_jobs=2)]: Done 200 out of 200 | elapsed:    0.5s finished\n",
            "[Parallel(n_jobs=-1)]: Using backend LokyBackend with 2 concurrent workers.\n",
            "[Parallel(n_jobs=-1)]: Done  46 tasks      | elapsed:    7.8s\n",
            "[Parallel(n_jobs=-1)]: Done 196 tasks      | elapsed:   32.6s\n",
            "[Parallel(n_jobs=-1)]: Done 200 out of 200 | elapsed:   33.2s finished\n",
            "[Parallel(n_jobs=2)]: Using backend ThreadingBackend with 2 concurrent workers.\n",
            "[Parallel(n_jobs=2)]: Done  46 tasks      | elapsed:    0.1s\n",
            "[Parallel(n_jobs=2)]: Done 196 tasks      | elapsed:    0.5s\n",
            "[Parallel(n_jobs=2)]: Done 200 out of 200 | elapsed:    0.5s finished\n",
            "[Parallel(n_jobs=-1)]: Using backend LokyBackend with 2 concurrent workers.\n",
            "[Parallel(n_jobs=-1)]: Done  46 tasks      | elapsed:    8.1s\n",
            "[Parallel(n_jobs=-1)]: Done 196 tasks      | elapsed:   33.1s\n",
            "[Parallel(n_jobs=-1)]: Done 200 out of 200 | elapsed:   33.7s finished\n",
            "[Parallel(n_jobs=2)]: Using backend ThreadingBackend with 2 concurrent workers.\n",
            "[Parallel(n_jobs=2)]: Done  46 tasks      | elapsed:    0.1s\n",
            "[Parallel(n_jobs=2)]: Done 196 tasks      | elapsed:    0.5s\n",
            "[Parallel(n_jobs=2)]: Done 200 out of 200 | elapsed:    0.5s finished\n",
            "[Parallel(n_jobs=-1)]: Using backend LokyBackend with 2 concurrent workers.\n",
            "[Parallel(n_jobs=-1)]: Done  88 tasks      | elapsed:    4.6s\n",
            "[Parallel(n_jobs=-1)]: Done 388 tasks      | elapsed:   19.8s\n",
            "[Parallel(n_jobs=-1)]: Done 888 tasks      | elapsed:   45.2s\n",
            "[Parallel(n_jobs=-1)]: Done 1000 out of 1000 | elapsed:   50.8s finished\n",
            "[Parallel(n_jobs=2)]: Using backend ThreadingBackend with 2 concurrent workers.\n",
            "[Parallel(n_jobs=2)]: Done  46 tasks      | elapsed:    0.0s\n",
            "[Parallel(n_jobs=2)]: Done 196 tasks      | elapsed:    0.2s\n",
            "[Parallel(n_jobs=2)]: Done 446 tasks      | elapsed:    0.4s\n",
            "[Parallel(n_jobs=2)]: Done 796 tasks      | elapsed:    0.7s\n",
            "[Parallel(n_jobs=2)]: Done 1000 out of 1000 | elapsed:    0.9s finished\n",
            "[Parallel(n_jobs=-1)]: Using backend LokyBackend with 2 concurrent workers.\n",
            "[Parallel(n_jobs=-1)]: Done  88 tasks      | elapsed:    4.5s\n",
            "[Parallel(n_jobs=-1)]: Done 388 tasks      | elapsed:   19.6s\n",
            "[Parallel(n_jobs=-1)]: Done 888 tasks      | elapsed:   44.9s\n",
            "[Parallel(n_jobs=-1)]: Done 1000 out of 1000 | elapsed:   50.7s finished\n",
            "[Parallel(n_jobs=2)]: Using backend ThreadingBackend with 2 concurrent workers.\n",
            "[Parallel(n_jobs=2)]: Done  46 tasks      | elapsed:    0.0s\n",
            "[Parallel(n_jobs=2)]: Done 196 tasks      | elapsed:    0.2s\n",
            "[Parallel(n_jobs=2)]: Done 446 tasks      | elapsed:    0.4s\n",
            "[Parallel(n_jobs=2)]: Done 796 tasks      | elapsed:    0.7s\n",
            "[Parallel(n_jobs=2)]: Done 1000 out of 1000 | elapsed:    0.8s finished\n",
            "[Parallel(n_jobs=-1)]: Using backend LokyBackend with 2 concurrent workers.\n",
            "[Parallel(n_jobs=-1)]: Done  88 tasks      | elapsed:    4.5s\n",
            "[Parallel(n_jobs=-1)]: Done 388 tasks      | elapsed:   19.8s\n",
            "[Parallel(n_jobs=-1)]: Done 888 tasks      | elapsed:   45.4s\n",
            "[Parallel(n_jobs=-1)]: Done 1000 out of 1000 | elapsed:   51.0s finished\n",
            "[Parallel(n_jobs=2)]: Using backend ThreadingBackend with 2 concurrent workers.\n",
            "[Parallel(n_jobs=2)]: Done  46 tasks      | elapsed:    0.0s\n",
            "[Parallel(n_jobs=2)]: Done 196 tasks      | elapsed:    0.2s\n",
            "[Parallel(n_jobs=2)]: Done 446 tasks      | elapsed:    0.4s\n",
            "[Parallel(n_jobs=2)]: Done 796 tasks      | elapsed:    0.7s\n",
            "[Parallel(n_jobs=2)]: Done 1000 out of 1000 | elapsed:    0.9s finished\n",
            "[Parallel(n_jobs=-1)]: Using backend LokyBackend with 2 concurrent workers.\n",
            "[Parallel(n_jobs=-1)]: Done  88 tasks      | elapsed:    4.7s\n",
            "[Parallel(n_jobs=-1)]: Done 388 tasks      | elapsed:   19.8s\n",
            "[Parallel(n_jobs=-1)]: Done 888 tasks      | elapsed:   45.5s\n",
            "[Parallel(n_jobs=-1)]: Done 1000 out of 1000 | elapsed:   51.3s finished\n",
            "[Parallel(n_jobs=2)]: Using backend ThreadingBackend with 2 concurrent workers.\n",
            "[Parallel(n_jobs=2)]: Done  46 tasks      | elapsed:    0.0s\n",
            "[Parallel(n_jobs=2)]: Done 196 tasks      | elapsed:    0.2s\n",
            "[Parallel(n_jobs=2)]: Done 446 tasks      | elapsed:    0.4s\n",
            "[Parallel(n_jobs=2)]: Done 796 tasks      | elapsed:    0.7s\n",
            "[Parallel(n_jobs=2)]: Done 1000 out of 1000 | elapsed:    0.9s finished\n",
            "[Parallel(n_jobs=-1)]: Using backend LokyBackend with 2 concurrent workers.\n",
            "[Parallel(n_jobs=-1)]: Done  46 tasks      | elapsed:    2.6s\n",
            "[Parallel(n_jobs=-1)]: Done 280 tasks      | elapsed:   14.6s\n",
            "[Parallel(n_jobs=-1)]: Done 780 tasks      | elapsed:   39.8s\n",
            "[Parallel(n_jobs=-1)]: Done 1000 out of 1000 | elapsed:   51.0s finished\n",
            "[Parallel(n_jobs=2)]: Using backend ThreadingBackend with 2 concurrent workers.\n",
            "[Parallel(n_jobs=2)]: Done  46 tasks      | elapsed:    0.0s\n",
            "[Parallel(n_jobs=2)]: Done 196 tasks      | elapsed:    0.2s\n",
            "[Parallel(n_jobs=2)]: Done 446 tasks      | elapsed:    0.4s\n",
            "[Parallel(n_jobs=2)]: Done 796 tasks      | elapsed:    0.7s\n",
            "[Parallel(n_jobs=2)]: Done 1000 out of 1000 | elapsed:    0.9s finished\n",
            "[Parallel(n_jobs=-1)]: Using backend LokyBackend with 2 concurrent workers.\n",
            "[Parallel(n_jobs=-1)]: Done  88 tasks      | elapsed:    4.4s\n",
            "[Parallel(n_jobs=-1)]: Done 100 out of 100 | elapsed:    4.9s finished\n",
            "[Parallel(n_jobs=2)]: Using backend ThreadingBackend with 2 concurrent workers.\n",
            "[Parallel(n_jobs=2)]: Done  46 tasks      | elapsed:    0.0s\n",
            "[Parallel(n_jobs=2)]: Done 100 out of 100 | elapsed:    0.1s finished\n",
            "[Parallel(n_jobs=-1)]: Using backend LokyBackend with 2 concurrent workers.\n",
            "[Parallel(n_jobs=-1)]: Done  88 tasks      | elapsed:    4.3s\n",
            "[Parallel(n_jobs=-1)]: Done 100 out of 100 | elapsed:    4.9s finished\n",
            "[Parallel(n_jobs=2)]: Using backend ThreadingBackend with 2 concurrent workers.\n",
            "[Parallel(n_jobs=2)]: Done  46 tasks      | elapsed:    0.0s\n",
            "[Parallel(n_jobs=2)]: Done 100 out of 100 | elapsed:    0.1s finished\n",
            "[Parallel(n_jobs=-1)]: Using backend LokyBackend with 2 concurrent workers.\n",
            "[Parallel(n_jobs=-1)]: Done  88 tasks      | elapsed:    4.5s\n",
            "[Parallel(n_jobs=-1)]: Done 100 out of 100 | elapsed:    5.1s finished\n",
            "[Parallel(n_jobs=2)]: Using backend ThreadingBackend with 2 concurrent workers.\n",
            "[Parallel(n_jobs=2)]: Done  46 tasks      | elapsed:    0.0s\n",
            "[Parallel(n_jobs=2)]: Done 100 out of 100 | elapsed:    0.1s finished\n",
            "[Parallel(n_jobs=-1)]: Using backend LokyBackend with 2 concurrent workers.\n",
            "[Parallel(n_jobs=-1)]: Done  88 tasks      | elapsed:    4.4s\n",
            "[Parallel(n_jobs=-1)]: Done 100 out of 100 | elapsed:    5.0s finished\n",
            "[Parallel(n_jobs=2)]: Using backend ThreadingBackend with 2 concurrent workers.\n",
            "[Parallel(n_jobs=2)]: Done  46 tasks      | elapsed:    0.0s\n",
            "[Parallel(n_jobs=2)]: Done 100 out of 100 | elapsed:    0.1s finished\n",
            "[Parallel(n_jobs=-1)]: Using backend LokyBackend with 2 concurrent workers.\n",
            "[Parallel(n_jobs=-1)]: Done  88 tasks      | elapsed:    4.5s\n",
            "[Parallel(n_jobs=-1)]: Done 100 out of 100 | elapsed:    5.1s finished\n",
            "[Parallel(n_jobs=2)]: Using backend ThreadingBackend with 2 concurrent workers.\n",
            "[Parallel(n_jobs=2)]: Done  46 tasks      | elapsed:    0.0s\n",
            "[Parallel(n_jobs=2)]: Done 100 out of 100 | elapsed:    0.1s finished\n",
            "[Parallel(n_jobs=-1)]: Using backend LokyBackend with 2 concurrent workers.\n",
            "[Parallel(n_jobs=-1)]: Done  88 tasks      | elapsed:    4.7s\n",
            "[Parallel(n_jobs=-1)]: Done 100 out of 100 | elapsed:    5.3s finished\n",
            "[Parallel(n_jobs=2)]: Using backend ThreadingBackend with 2 concurrent workers.\n",
            "[Parallel(n_jobs=2)]: Done  46 tasks      | elapsed:    0.0s\n",
            "[Parallel(n_jobs=2)]: Done 100 out of 100 | elapsed:    0.1s finished\n",
            "[Parallel(n_jobs=-1)]: Using backend LokyBackend with 2 concurrent workers.\n",
            "[Parallel(n_jobs=-1)]: Done  88 tasks      | elapsed:    4.6s\n",
            "[Parallel(n_jobs=-1)]: Done 100 out of 100 | elapsed:    5.2s finished\n",
            "[Parallel(n_jobs=2)]: Using backend ThreadingBackend with 2 concurrent workers.\n",
            "[Parallel(n_jobs=2)]: Done  46 tasks      | elapsed:    0.0s\n",
            "[Parallel(n_jobs=2)]: Done 100 out of 100 | elapsed:    0.1s finished\n",
            "[Parallel(n_jobs=-1)]: Using backend LokyBackend with 2 concurrent workers.\n",
            "[Parallel(n_jobs=-1)]: Done  88 tasks      | elapsed:    4.6s\n",
            "[Parallel(n_jobs=-1)]: Done 100 out of 100 | elapsed:    5.2s finished\n",
            "[Parallel(n_jobs=2)]: Using backend ThreadingBackend with 2 concurrent workers.\n",
            "[Parallel(n_jobs=2)]: Done  46 tasks      | elapsed:    0.0s\n",
            "[Parallel(n_jobs=2)]: Done 100 out of 100 | elapsed:    0.1s finished\n",
            "[Parallel(n_jobs=-1)]: Using backend LokyBackend with 2 concurrent workers.\n",
            "[Parallel(n_jobs=-1)]: Done  88 tasks      | elapsed:    4.7s\n",
            "[Parallel(n_jobs=-1)]: Done 100 out of 100 | elapsed:    5.2s finished\n",
            "[Parallel(n_jobs=2)]: Using backend ThreadingBackend with 2 concurrent workers.\n",
            "[Parallel(n_jobs=2)]: Done  46 tasks      | elapsed:    0.0s\n",
            "[Parallel(n_jobs=2)]: Done 100 out of 100 | elapsed:    0.1s finished\n",
            "[Parallel(n_jobs=-1)]: Using backend LokyBackend with 2 concurrent workers.\n",
            "[Parallel(n_jobs=-1)]: Done  88 tasks      | elapsed:    4.6s\n",
            "[Parallel(n_jobs=-1)]: Done 100 out of 100 | elapsed:    5.2s finished\n",
            "[Parallel(n_jobs=2)]: Using backend ThreadingBackend with 2 concurrent workers.\n",
            "[Parallel(n_jobs=2)]: Done  46 tasks      | elapsed:    0.0s\n",
            "[Parallel(n_jobs=2)]: Done 100 out of 100 | elapsed:    0.1s finished\n",
            "[Parallel(n_jobs=-1)]: Using backend LokyBackend with 2 concurrent workers.\n",
            "[Parallel(n_jobs=-1)]: Done  46 tasks      | elapsed:    7.6s\n",
            "[Parallel(n_jobs=-1)]: Done 196 tasks      | elapsed:   33.0s\n",
            "[Parallel(n_jobs=-1)]: Done 300 out of 300 | elapsed:   50.6s finished\n",
            "[Parallel(n_jobs=2)]: Using backend ThreadingBackend with 2 concurrent workers.\n",
            "[Parallel(n_jobs=2)]: Done  46 tasks      | elapsed:    0.1s\n",
            "[Parallel(n_jobs=2)]: Done 196 tasks      | elapsed:    0.3s\n",
            "[Parallel(n_jobs=2)]: Done 300 out of 300 | elapsed:    0.5s finished\n",
            "[Parallel(n_jobs=-1)]: Using backend LokyBackend with 2 concurrent workers.\n",
            "[Parallel(n_jobs=-1)]: Done  46 tasks      | elapsed:    8.0s\n",
            "[Parallel(n_jobs=-1)]: Done 196 tasks      | elapsed:   33.8s\n",
            "[Parallel(n_jobs=-1)]: Done 300 out of 300 | elapsed:   51.1s finished\n",
            "[Parallel(n_jobs=2)]: Using backend ThreadingBackend with 2 concurrent workers.\n",
            "[Parallel(n_jobs=2)]: Done  46 tasks      | elapsed:    0.1s\n",
            "[Parallel(n_jobs=2)]: Done 196 tasks      | elapsed:    0.3s\n",
            "[Parallel(n_jobs=2)]: Done 300 out of 300 | elapsed:    0.5s finished\n",
            "[Parallel(n_jobs=-1)]: Using backend LokyBackend with 2 concurrent workers.\n",
            "[Parallel(n_jobs=-1)]: Done  46 tasks      | elapsed:    8.0s\n",
            "[Parallel(n_jobs=-1)]: Done 196 tasks      | elapsed:   33.4s\n",
            "[Parallel(n_jobs=-1)]: Done 300 out of 300 | elapsed:   51.0s finished\n",
            "[Parallel(n_jobs=2)]: Using backend ThreadingBackend with 2 concurrent workers.\n",
            "[Parallel(n_jobs=2)]: Done  46 tasks      | elapsed:    0.1s\n",
            "[Parallel(n_jobs=2)]: Done 196 tasks      | elapsed:    0.3s\n",
            "[Parallel(n_jobs=2)]: Done 300 out of 300 | elapsed:    0.5s finished\n",
            "[Parallel(n_jobs=-1)]: Using backend LokyBackend with 2 concurrent workers.\n",
            "[Parallel(n_jobs=-1)]: Done  46 tasks      | elapsed:    7.9s\n",
            "[Parallel(n_jobs=-1)]: Done 196 tasks      | elapsed:   33.0s\n",
            "[Parallel(n_jobs=-1)]: Done 300 out of 300 | elapsed:   50.6s finished\n",
            "[Parallel(n_jobs=2)]: Using backend ThreadingBackend with 2 concurrent workers.\n",
            "[Parallel(n_jobs=2)]: Done  46 tasks      | elapsed:    0.1s\n",
            "[Parallel(n_jobs=2)]: Done 196 tasks      | elapsed:    0.3s\n",
            "[Parallel(n_jobs=2)]: Done 300 out of 300 | elapsed:    0.5s finished\n",
            "[Parallel(n_jobs=-1)]: Using backend LokyBackend with 2 concurrent workers.\n",
            "[Parallel(n_jobs=-1)]: Done  46 tasks      | elapsed:    8.1s\n",
            "[Parallel(n_jobs=-1)]: Done 196 tasks      | elapsed:   33.4s\n",
            "[Parallel(n_jobs=-1)]: Done 300 out of 300 | elapsed:   51.1s finished\n",
            "[Parallel(n_jobs=2)]: Using backend ThreadingBackend with 2 concurrent workers.\n",
            "[Parallel(n_jobs=2)]: Done  46 tasks      | elapsed:    0.1s\n",
            "[Parallel(n_jobs=2)]: Done 196 tasks      | elapsed:    0.3s\n",
            "[Parallel(n_jobs=2)]: Done 300 out of 300 | elapsed:    0.5s finished\n",
            "[Parallel(n_jobs=-1)]: Using backend ThreadingBackend with 2 concurrent workers.\n",
            "[Parallel(n_jobs=-1)]: Done  46 tasks      | elapsed:   11.0s\n",
            "[Parallel(n_jobs=-1)]: Done 196 tasks      | elapsed:   46.2s\n",
            "[Parallel(n_jobs=-1)]: Done 446 tasks      | elapsed:  1.7min\n",
            "[Parallel(n_jobs=-1)]: Done 700 out of 700 | elapsed:  2.7min finished\n"
          ],
          "name": "stderr"
        },
        {
          "output_type": "execute_result",
          "data": {
            "text/plain": [
              "RandomizedSearchCV(cv=5, error_score=nan,\n",
              "                   estimator=RandomForestClassifier(bootstrap=True,\n",
              "                                                    ccp_alpha=0.0,\n",
              "                                                    class_weight=None,\n",
              "                                                    criterion='gini',\n",
              "                                                    max_depth=None,\n",
              "                                                    max_features='auto',\n",
              "                                                    max_leaf_nodes=None,\n",
              "                                                    max_samples=None,\n",
              "                                                    min_impurity_decrease=0.0,\n",
              "                                                    min_impurity_split=None,\n",
              "                                                    min_samples_leaf=1,\n",
              "                                                    min_samples_split=2,\n",
              "                                                    min_weight_fraction_leaf=0.0,\n",
              "                                                    n_estimators=100, n_jobs...\n",
              "                   param_distributions={'bootstrap': [True, False],\n",
              "                                        'class_weight': [None, 'balanced'],\n",
              "                                        'criterion': ['entropy', 'gini'],\n",
              "                                        'max_depth': [None, 5, 10, 15, 20, 30,\n",
              "                                                      50, 70],\n",
              "                                        'max_features': ['auto'],\n",
              "                                        'min_samples_leaf': [1, 2, 5, 10, 15,\n",
              "                                                             20],\n",
              "                                        'min_samples_split': [2, 5, 10, 15, 20],\n",
              "                                        'n_estimators': [100, 200, 300, 500,\n",
              "                                                         700, 1000]},\n",
              "                   pre_dispatch='2*n_jobs', random_state=None, refit=True,\n",
              "                   return_train_score=False, scoring='roc_auc', verbose=0)"
            ]
          },
          "metadata": {
            "tags": []
          },
          "execution_count": 61
        }
      ]
    },
    {
      "cell_type": "code",
      "metadata": {
        "id": "9wenBmOYyVwQ",
        "colab_type": "code",
        "colab": {
          "base_uri": "https://localhost:8080/",
          "height": 105
        },
        "outputId": "04098d1b-a7fd-48a3-91e1-5ed43292cc49"
      },
      "source": [
        "pred = random_search.predict(X_test)"
      ],
      "execution_count": 65,
      "outputs": [
        {
          "output_type": "stream",
          "text": [
            "[Parallel(n_jobs=2)]: Using backend ThreadingBackend with 2 concurrent workers.\n",
            "[Parallel(n_jobs=2)]: Done  46 tasks      | elapsed:    0.1s\n",
            "[Parallel(n_jobs=2)]: Done 196 tasks      | elapsed:    0.4s\n",
            "[Parallel(n_jobs=2)]: Done 446 tasks      | elapsed:    1.0s\n",
            "[Parallel(n_jobs=2)]: Done 700 out of 700 | elapsed:    1.5s finished\n"
          ],
          "name": "stderr"
        }
      ]
    },
    {
      "cell_type": "code",
      "metadata": {
        "id": "cexaM3amyVs9",
        "colab_type": "code",
        "colab": {
          "base_uri": "https://localhost:8080/",
          "height": 34
        },
        "outputId": "35008c5a-6a85-4389-af36-f76b7f1e633c"
      },
      "source": [
        "roc_auc_score(y_test,pred)"
      ],
      "execution_count": 66,
      "outputs": [
        {
          "output_type": "execute_result",
          "data": {
            "text/plain": [
              "0.6885022987669147"
            ]
          },
          "metadata": {
            "tags": []
          },
          "execution_count": 66
        }
      ]
    },
    {
      "cell_type": "code",
      "metadata": {
        "id": "Jka5iPCHk6PU",
        "colab_type": "code",
        "colab": {}
      },
      "source": [
        "rf=RandomForestClassifier(n_estimators=500,verbose=1,criterion='entropy',min_samples_split=7,\n",
        "                         bootstrap=False,max_depth=None,max_features=8,min_samples_leaf=5,\n",
        "                          class_weight=\"balanced\")"
      ],
      "execution_count": 67,
      "outputs": []
    },
    {
      "cell_type": "code",
      "metadata": {
        "id": "boPMUz3uoY6a",
        "colab_type": "code",
        "colab": {
          "base_uri": "https://localhost:8080/",
          "height": 194
        },
        "outputId": "4c4dbfab-f3c3-43ae-90bb-146bb841d31a"
      },
      "source": [
        "rf.fit(X_train,y_train)"
      ],
      "execution_count": 68,
      "outputs": [
        {
          "output_type": "stream",
          "text": [
            "[Parallel(n_jobs=1)]: Using backend SequentialBackend with 1 concurrent workers.\n",
            "[Parallel(n_jobs=1)]: Done 500 out of 500 | elapsed:   57.3s finished\n"
          ],
          "name": "stderr"
        },
        {
          "output_type": "execute_result",
          "data": {
            "text/plain": [
              "RandomForestClassifier(bootstrap=False, ccp_alpha=0.0, class_weight='balanced',\n",
              "                       criterion='entropy', max_depth=None, max_features=8,\n",
              "                       max_leaf_nodes=None, max_samples=None,\n",
              "                       min_impurity_decrease=0.0, min_impurity_split=None,\n",
              "                       min_samples_leaf=5, min_samples_split=7,\n",
              "                       min_weight_fraction_leaf=0.0, n_estimators=500,\n",
              "                       n_jobs=None, oob_score=False, random_state=None,\n",
              "                       verbose=1, warm_start=False)"
            ]
          },
          "metadata": {
            "tags": []
          },
          "execution_count": 68
        }
      ]
    },
    {
      "cell_type": "code",
      "metadata": {
        "id": "o1K0dd9DyVqV",
        "colab_type": "code",
        "colab": {
          "base_uri": "https://localhost:8080/",
          "height": 52
        },
        "outputId": "dad53777-e962-4afc-b8bb-1c6689e1cf39"
      },
      "source": [
        "preds = rf.predict(X_test)"
      ],
      "execution_count": 72,
      "outputs": [
        {
          "output_type": "stream",
          "text": [
            "[Parallel(n_jobs=1)]: Using backend SequentialBackend with 1 concurrent workers.\n",
            "[Parallel(n_jobs=1)]: Done 500 out of 500 | elapsed:    1.5s finished\n"
          ],
          "name": "stderr"
        }
      ]
    },
    {
      "cell_type": "code",
      "metadata": {
        "id": "EML-WaZ4yVn3",
        "colab_type": "code",
        "colab": {
          "base_uri": "https://localhost:8080/",
          "height": 34
        },
        "outputId": "507a4ec1-0228-45a6-c855-86fc47c043a5"
      },
      "source": [
        "roc_auc_score(y_test,preds)"
      ],
      "execution_count": 73,
      "outputs": [
        {
          "output_type": "execute_result",
          "data": {
            "text/plain": [
              "0.6863841275906618"
            ]
          },
          "metadata": {
            "tags": []
          },
          "execution_count": 73
        }
      ]
    },
    {
      "cell_type": "code",
      "metadata": {
        "id": "d9dQJ0rayVlU",
        "colab_type": "code",
        "colab": {}
      },
      "source": [
        "pd.DataFrame(pred).to_csv(\"Property.csv\",index=False)"
      ],
      "execution_count": 74,
      "outputs": []
    }
  ]
}